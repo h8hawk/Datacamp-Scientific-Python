{
 "cells": [
  {
   "cell_type": "markdown",
   "metadata": {},
   "source": [
    "<h3>    What is Numpy </h3>\n",
    "\n",
    "NumPy, short for Numerical Python, is one of the most important foundational pack‐\n",
    "ages for numerical computing in Python. Most computational packages providing\n",
    "scientific functionality use NumPy’s array objects as the lingua franca for data\n",
    "exchange.\n",
    "\n",
    "<h4> What numpy provides: </h4>\n",
    "\n",
    "<ul>\n",
    "    <li> ndarray, an efficient multidimensional array providing fast array-oriented arith‐\n",
    "metic operations and flexible broadcasting capabilities. </li>\n",
    "    <li> Mathematical functions for fast operations on entire arrays of data without hav‐\n",
    "ing to write loops. </li>\n",
    "    <li> Linear algebra, random number generation </li>\n",
    "    <li> A C API for connecting NumPy with libraries written in C, C++ </li>\n",
    "</ul>\n",
    "\n",
    "<h4> Why using It instead of python's list </h4>\n",
    "\n",
    "<ul>\n",
    "    <li> Provide matrix and vector operations </li>\n",
    "    <li> It's written in C optimized code. Much more faster and memory efficient.(up to hundreds time faster and ten's time more memory efficient</li>\n",
    "    <li>provides an easy-to-use C API, it is straightforward to pass data to\n",
    "external libraries written in a low-level language and also for external libraries to\n",
    "        return data to Python as NumPy arrays.</li>\n",
    "</ul>\n",
    "\n",
    "<h3> Deference between numpy array and python's list </h3><br><br><br>\n",
    "<img src=\"https://raw.githubusercontent.com/h8hawk/Datacamp-Scientific-Python/master/files/array_vs_list.png\"/>"
   ]
  },
  {
   "cell_type": "markdown",
   "metadata": {},
   "source": [
    "<h3> What provides in this courese? </h3>\n",
    "\n",
    "<ul>\n",
    "    <li> Fast vectorized array operations for data munging and cleaning, subsetting and\n",
    "        filtering, transformation, and any other kinds of computations </li>\n",
    "    <li> Common array algorithms like sorting, unique, and set operations </li>\n",
    "    <li> Efficient descriptive statistics and aggregating/summarizing data </li>\n",
    "    <li> Data alignment and relational data manipulations for merging and joining\n",
    "        together heterogeneous datasets </li>\n",
    "    <li> Expressing conditional logic as array expressions instead of loops with if-elif-\n",
    "        else branches </li>\n",
    "    <li> Group-wise data manipulations (aggregation, transformation, function applica‐\n",
    "        tion)</li>\n",
    "</ul>"
   ]
  },
  {
   "cell_type": "markdown",
   "metadata": {},
   "source": [
    "\n",
    "<h4> How numpy works </h4>\n",
    "\n",
    "<ul>\n",
    "    <li> NumPy internally stores data in a contiguous block of memory, independent of\n",
    "other built-in Python objects. NumPy’s library of algorithms written in the C language can operate on this memory without any type checking or other overhead.\n",
    "        NumPy arrays also use much less memory than built-in Python sequences. </li>\n",
    "    <li> NumPy operations perform complex computations on entire arrays without the\n",
    "    need for Python for loops. </li>\n",
    "    \n",
    "</ul>"
   ]
  },
  {
   "cell_type": "markdown",
   "metadata": {},
   "source": [
    "\n",
    "<h4> The NumPy ndarray: A Multidimensional Array Object </h4>\n",
    "\n",
    "<p> One of the key features of NumPy is its N-dimensional array object, or ndarray,\n",
    "which is a fast, flexible container for large datasets in Python. Arrays enable you to\n",
    "perform mathematical operations on whole blocks of data using similar syntax to the\n",
    "equivalent operations between scalar elements. </p>\n",
    "\n"
   ]
  },
  {
   "cell_type": "markdown",
   "metadata": {},
   "source": [
    "\n",
    "<h4> First look at numpy array: </h4>"
   ]
  },
  {
   "cell_type": "markdown",
   "metadata": {},
   "source": [
    "Importing numpy module and prefixing it by <b>np</b>:"
   ]
  },
  {
   "cell_type": "code",
   "execution_count": 2,
   "metadata": {},
   "outputs": [],
   "source": [
    "import numpy as np"
   ]
  },
  {
   "cell_type": "markdown",
   "metadata": {},
   "source": [
    "Generate Some random data.  \n",
    "<a href=\"https://docs.scipy.org/doc/numpy/reference/generated/numpy.random.RandomState.html#numpy.random.RandomState\">How numpy generate random numbers? </a>"
   ]
  },
  {
   "cell_type": "code",
   "execution_count": 3,
   "metadata": {},
   "outputs": [],
   "source": [
    "data = np.random.randn(2,3)"
   ]
  },
  {
   "cell_type": "code",
   "execution_count": 4,
   "metadata": {},
   "outputs": [
    {
     "data": {
      "text/plain": [
       "array([[ 1.46400028, -0.43855219,  2.00429042],\n",
       "       [-0.31404764, -0.14072682, -0.99101898]])"
      ]
     },
     "execution_count": 4,
     "metadata": {},
     "output_type": "execute_result"
    }
   ],
   "source": [
    "data"
   ]
  },
  {
   "cell_type": "markdown",
   "metadata": {},
   "source": [
    "<p> Mathematical operation with <b>data</b> </p>"
   ]
  },
  {
   "cell_type": "code",
   "execution_count": 5,
   "metadata": {},
   "outputs": [
    {
     "data": {
      "text/plain": [
       "array([[14.64000275, -4.38552193, 20.04290424],\n",
       "       [-3.14047641, -1.40726824, -9.91018984]])"
      ]
     },
     "execution_count": 5,
     "metadata": {},
     "output_type": "execute_result"
    }
   ],
   "source": [
    "data * 10"
   ]
  },
  {
   "cell_type": "markdown",
   "metadata": {},
   "source": [
    "<p> all of the elements of <b>data</b> have been multiplied by 10. </p>"
   ]
  },
  {
   "cell_type": "markdown",
   "metadata": {},
   "source": [
    "<h3> Some properties of numpy array's (ndarray) </h3>\n",
    "<ul>\n",
    "    <li> An ndarray is a generic multidimensional container for homogeneous data : all\n",
    "        of the elements must be the same type. </li>\n",
    "    <li> Every array has a <b>shape</b> : a tuple indicating the\n",
    "        size of each dimension </li>\n",
    "    <li> Every array has a <b>dtype</b> : an object describing the data type of the array </li>\n",
    "</ul>"
   ]
  },
  {
   "cell_type": "markdown",
   "metadata": {},
   "source": [
    "For 'data':"
   ]
  },
  {
   "cell_type": "code",
   "execution_count": 6,
   "metadata": {},
   "outputs": [
    {
     "data": {
      "text/plain": [
       "(2, 3)"
      ]
     },
     "execution_count": 6,
     "metadata": {},
     "output_type": "execute_result"
    }
   ],
   "source": [
    "data.shape"
   ]
  },
  {
   "cell_type": "code",
   "execution_count": 7,
   "metadata": {},
   "outputs": [
    {
     "data": {
      "text/plain": [
       "dtype('float64')"
      ]
     },
     "execution_count": 7,
     "metadata": {},
     "output_type": "execute_result"
    }
   ],
   "source": [
    "data.dtype"
   ]
  },
  {
   "cell_type": "markdown",
   "metadata": {},
   "source": [
    "<h3> Creating ndarray's </h3>\n",
    "<ul>\n",
    "    <li> Easies way: using <b>array</b> function </li>\n",
    "</ul>"
   ]
  },
  {
   "cell_type": "markdown",
   "metadata": {},
   "source": [
    "First make python list:"
   ]
  },
  {
   "cell_type": "code",
   "execution_count": 8,
   "metadata": {},
   "outputs": [],
   "source": [
    "data1 = [4, 5.3, 8, 9, 12]"
   ]
  },
  {
   "cell_type": "code",
   "execution_count": 9,
   "metadata": {},
   "outputs": [],
   "source": [
    "arr1 = np.array(data1)"
   ]
  },
  {
   "cell_type": "code",
   "execution_count": 10,
   "metadata": {},
   "outputs": [
    {
     "name": "stdout",
     "output_type": "stream",
     "text": [
      "[ 4.   5.3  8.   9.  12. ]\n"
     ]
    }
   ],
   "source": [
    "print(arr1)"
   ]
  },
  {
   "cell_type": "markdown",
   "metadata": {},
   "source": [
    "Nested sequence :"
   ]
  },
  {
   "cell_type": "code",
   "execution_count": 11,
   "metadata": {},
   "outputs": [],
   "source": [
    "nested_seq = [[1, 2, 3], [4, 5, 6]]"
   ]
  },
  {
   "cell_type": "code",
   "execution_count": 12,
   "metadata": {},
   "outputs": [],
   "source": [
    "nested_arr = np.array(nested_seq)"
   ]
  },
  {
   "cell_type": "code",
   "execution_count": 13,
   "metadata": {},
   "outputs": [
    {
     "name": "stdout",
     "output_type": "stream",
     "text": [
      "[[1 2 3]\n",
      " [4 5 6]]\n"
     ]
    }
   ],
   "source": [
    "print(nested_arr)"
   ]
  },
  {
   "cell_type": "code",
   "execution_count": 14,
   "metadata": {},
   "outputs": [
    {
     "data": {
      "text/plain": [
       "2"
      ]
     },
     "execution_count": 14,
     "metadata": {},
     "output_type": "execute_result"
    }
   ],
   "source": [
    "nested_arr.ndim"
   ]
  },
  {
   "cell_type": "code",
   "execution_count": 15,
   "metadata": {},
   "outputs": [
    {
     "data": {
      "text/plain": [
       "(2, 3)"
      ]
     },
     "execution_count": 15,
     "metadata": {},
     "output_type": "execute_result"
    }
   ],
   "source": [
    "nested_arr.shape"
   ]
  },
  {
   "cell_type": "code",
   "execution_count": 16,
   "metadata": {},
   "outputs": [
    {
     "data": {
      "text/plain": [
       "dtype('int64')"
      ]
     },
     "execution_count": 16,
     "metadata": {},
     "output_type": "execute_result"
    }
   ],
   "source": [
    "nested_arr.dtype"
   ]
  },
  {
   "cell_type": "markdown",
   "metadata": {},
   "source": [
    "<h3> Some properties of numpy array's (ndarray) </h3>\n",
    "<ul>\n",
    "    <li> Unless explicitly specified, <b>np.array</b> tries to infer a good data\n",
    "        type for the array that it creates. The data type is stored <b>dtype</b> </li>\n",
    "</ul>\n",
    "</br>"
   ]
  },
  {
   "cell_type": "markdown",
   "metadata": {},
   "source": [
    "<h4> There are a number of other functions for creating new\n",
    "arrays: </h4>\n",
    "<ul>\n",
    "    <li> <b>zeros</b> : create arrays of 0s </li>\n",
    "    <li> <b>ones</b> : create arrays of 1s </li>\n",
    "    <li> <b>empty</b> : creates an array without initializing its values to any particular value.</li>\n",
    "    <li> <b>arange</b> : Like the built-in <b>range</b> but returns an ndarray instead of a list</li>\n",
    "    <li> <b> ones_like </b> : produces a ones array of the same shape and dtype </li>\n",
    "    <li> <b> zeros_like </b> : Like <b>ones_like</b> but for zeros </li>\n",
    "    <li> <b> full </b> : Produce an array of the given shape and dtype with all values set to the indicated “fill value”</li>\n",
    "    <li> <b> eye</b>, <b>identity </b> : Create a square N × N identity matrix (1s on the diagonal and 0s elsewhere) \n",
    "</ul>"
   ]
  },
  {
   "cell_type": "code",
   "execution_count": 17,
   "metadata": {},
   "outputs": [
    {
     "data": {
      "text/plain": [
       "array([[0., 0., 0.],\n",
       "       [0., 0., 0.],\n",
       "       [0., 0., 0.],\n",
       "       [0., 0., 0.]])"
      ]
     },
     "execution_count": 17,
     "metadata": {},
     "output_type": "execute_result"
    }
   ],
   "source": [
    "np.zeros((4,3))"
   ]
  },
  {
   "cell_type": "code",
   "execution_count": 18,
   "metadata": {},
   "outputs": [
    {
     "data": {
      "text/plain": [
       "array([[1., 1., 1.],\n",
       "       [1., 1., 1.],\n",
       "       [1., 1., 1.],\n",
       "       [1., 1., 1.]])"
      ]
     },
     "execution_count": 18,
     "metadata": {},
     "output_type": "execute_result"
    }
   ],
   "source": [
    "np.ones((4,3))"
   ]
  },
  {
   "cell_type": "code",
   "execution_count": 19,
   "metadata": {},
   "outputs": [
    {
     "data": {
      "text/plain": [
       "array([[1.23962019e-316, 7.58445798e-302, 2.01160983e-309,\n",
       "        9.77801185e+199, 2.44046782e-152, 1.27587196e-152],\n",
       "       [1.13224202e+277, 1.33360307e+241, 1.87160029e-311,\n",
       "        1.70182262e-123, 1.00678753e-312, 6.52094399e-308],\n",
       "       [3.32653140e-111, 3.33481217e+079, 6.88488166e-313,\n",
       "        4.85213860e-308, 2.27610565e-159, 2.64171898e-313],\n",
       "       [1.27631071e-303, 5.12965257e+064, 5.58599989e+093,\n",
       "        9.08367206e+223, 1.13224202e+277, 1.43485896e+161]])"
      ]
     },
     "execution_count": 19,
     "metadata": {},
     "output_type": "execute_result"
    }
   ],
   "source": [
    "np.empty((4,6))"
   ]
  },
  {
   "cell_type": "markdown",
   "metadata": {},
   "source": [
    "<p> <b>empty</b>, unlike <b>zeros</b>, does not set the array values to zero, and may therefore be marginally faster. <br><b>empty</b> has nothing to do with creating an array that is \"empty\" in the sense of having no elements. It just means the array doesn't have its values initialized (i.e., they are unpredictable and depend on whatever happens to be in the memory allocated for the array).</p>"
   ]
  },
  {
   "cell_type": "code",
   "execution_count": 20,
   "metadata": {},
   "outputs": [
    {
     "data": {
      "text/plain": [
       "array([[4, 4, 4, 4],\n",
       "       [4, 4, 4, 4],\n",
       "       [4, 4, 4, 4]])"
      ]
     },
     "execution_count": 20,
     "metadata": {},
     "output_type": "execute_result"
    }
   ],
   "source": [
    "np.full((3,4), 4)"
   ]
  },
  {
   "cell_type": "code",
   "execution_count": 21,
   "metadata": {},
   "outputs": [
    {
     "data": {
      "text/plain": [
       "array([[1, 1, 1],\n",
       "       [1, 1, 1]])"
      ]
     },
     "execution_count": 21,
     "metadata": {},
     "output_type": "execute_result"
    }
   ],
   "source": [
    "np.ones_like(nested_arr)"
   ]
  },
  {
   "cell_type": "code",
   "execution_count": 22,
   "metadata": {},
   "outputs": [
    {
     "data": {
      "text/plain": [
       "array([0, 1, 2, 3, 4, 5, 6, 7, 8, 9])"
      ]
     },
     "execution_count": 22,
     "metadata": {},
     "output_type": "execute_result"
    }
   ],
   "source": [
    "np.arange(10)"
   ]
  },
  {
   "cell_type": "code",
   "execution_count": 23,
   "metadata": {},
   "outputs": [
    {
     "data": {
      "text/plain": [
       "array([1. , 1.5, 2. , 2.5, 3. , 3.5, 4. , 4.5, 5. , 5.5, 6. , 6.5, 7. ,\n",
       "       7.5, 8. , 8.5, 9. , 9.5])"
      ]
     },
     "execution_count": 23,
     "metadata": {},
     "output_type": "execute_result"
    }
   ],
   "source": [
    "np.arange(1,10,.5)"
   ]
  },
  {
   "cell_type": "markdown",
   "metadata": {},
   "source": [
    "<h4>Data Types for ndarrays:</h4>\n",
    "<ul>\n",
    "<li> The data type or dtype is a special object containing the information the ndarray needs to interpret a chunk of memory as a particular\n",
    "type of data. </li>\n",
    "</ul>"
   ]
  },
  {
   "cell_type": "code",
   "execution_count": 24,
   "metadata": {},
   "outputs": [],
   "source": [
    "arr1 = np.array([1, 2, 3, 4], dtype=np.float32)"
   ]
  },
  {
   "cell_type": "code",
   "execution_count": 25,
   "metadata": {},
   "outputs": [
    {
     "data": {
      "text/plain": [
       "array([1., 2., 3., 4.], dtype=float32)"
      ]
     },
     "execution_count": 25,
     "metadata": {},
     "output_type": "execute_result"
    }
   ],
   "source": [
    "arr1"
   ]
  },
  {
   "cell_type": "code",
   "execution_count": 26,
   "metadata": {},
   "outputs": [],
   "source": [
    "arr2 = np.array([1.2, 3, -0.3], dtype=np.int32)"
   ]
  },
  {
   "cell_type": "code",
   "execution_count": 27,
   "metadata": {},
   "outputs": [
    {
     "data": {
      "text/plain": [
       "array([1, 3, 0], dtype=int32)"
      ]
     },
     "execution_count": 27,
     "metadata": {},
     "output_type": "execute_result"
    }
   ],
   "source": [
    "arr2"
   ]
  },
  {
   "cell_type": "markdown",
   "metadata": {},
   "source": [
    "<h6> Casting floating-pint to intger: the decimal part will be truncated: </h6>"
   ]
  },
  {
   "cell_type": "markdown",
   "metadata": {},
   "source": [
    "<h3> Numpy data types </h3>\n",
    "<ul>\n",
    "    <li> <b> int8, uint8 </b> : Signed and unsigned 8-bit (1 byte) integer types </li>\n",
    "    <li> <b> int16, uint16 </b> : Signed and unsigned 16-bit integer types </li>\n",
    "    <li> <b> int32, uint32 </b> : Signed and unsigned 32-bit integer types </li>\n",
    "    <li> <b> int64, uint64 </b> : Signed and unsigned 64-bit integer types </li>\n",
    "    <li> <b> float16 </b> : Half-precision floating point </li>\n",
    "    <li> <b> float32 </b> : Standard single-precision floating point; compatible with C float </li>\n",
    "    <li> <b> float64 </b> : Standard double-precision floating point; compatible with C double and\n",
    "    Python float object </li>\n",
    "    <li> <b> float128 </b> : Extended-precision floating point </li>\n",
    "    <li> <b> complex64, complex128 </b> : Complex numbers represented by two 32, 64, or 128 floats, respectively </li>\n",
    "    <li> <b> bool </b> : Boolean type storing True and False values </li>\n",
    "    <li> <b> object </b> : Python object type; a value can be any Python object </li>\n",
    "    <li> <b> string_ </b> : Fixed-length ASCII string type (1 byte per character); for example, to create a\n",
    "    string dtype with length 10, use 'S10' </li>\n",
    "    <li> <b> unicode_ </b> : Fixed-length Unicode type (number of bytes platform specific); same\n",
    "specification semantics as string_ (e.g., 'U10' ) </li>\n",
    "</ul><br><br>\n",
    "<h5> Convert array's dtype : <b>astype</b> method </h5>\n",
    "\n"
   ]
  },
  {
   "cell_type": "code",
   "execution_count": 28,
   "metadata": {},
   "outputs": [],
   "source": [
    "arr = np.array([1, 2, 3, 4, 5], dtype=np.int64)"
   ]
  },
  {
   "cell_type": "code",
   "execution_count": 29,
   "metadata": {},
   "outputs": [],
   "source": [
    "float_arr = arr.astype(np.float32)"
   ]
  },
  {
   "cell_type": "code",
   "execution_count": 30,
   "metadata": {},
   "outputs": [
    {
     "data": {
      "text/plain": [
       "dtype('float32')"
      ]
     },
     "execution_count": 30,
     "metadata": {},
     "output_type": "execute_result"
    }
   ],
   "source": [
    "float_arr.dtype"
   ]
  },
  {
   "cell_type": "markdown",
   "metadata": {},
   "source": [
    "<h6> Casting floating-pint to intger: the decimal part will be truncated: </h6>"
   ]
  },
  {
   "cell_type": "code",
   "execution_count": 31,
   "metadata": {},
   "outputs": [],
   "source": [
    "string_arr = np.array(['ab', '1' , 'fj'], dtype=np.string_)"
   ]
  },
  {
   "cell_type": "code",
   "execution_count": 32,
   "metadata": {},
   "outputs": [
    {
     "data": {
      "text/plain": [
       "dtype('S2')"
      ]
     },
     "execution_count": 32,
     "metadata": {},
     "output_type": "execute_result"
    }
   ],
   "source": [
    "string_arr.dtype"
   ]
  },
  {
   "cell_type": "code",
   "execution_count": 33,
   "metadata": {},
   "outputs": [
    {
     "ename": "ValueError",
     "evalue": "invalid literal for int() with base 10: 'ab'",
     "output_type": "error",
     "traceback": [
      "\u001b[0;31m---------------------------------------------------------------------------\u001b[0m",
      "\u001b[0;31mValueError\u001b[0m                                Traceback (most recent call last)",
      "\u001b[0;32m<ipython-input-33-46fb7e70dc9f>\u001b[0m in \u001b[0;36m<module>\u001b[0;34m\u001b[0m\n\u001b[0;32m----> 1\u001b[0;31m \u001b[0mstring_arr\u001b[0m\u001b[0;34m.\u001b[0m\u001b[0mastype\u001b[0m\u001b[0;34m(\u001b[0m\u001b[0mnp\u001b[0m\u001b[0;34m.\u001b[0m\u001b[0mint64\u001b[0m\u001b[0;34m)\u001b[0m\u001b[0;34m\u001b[0m\u001b[0;34m\u001b[0m\u001b[0m\n\u001b[0m",
      "\u001b[0;31mValueError\u001b[0m: invalid literal for int() with base 10: 'ab'"
     ]
    }
   ],
   "source": [
    "string_arr.astype(np.int64)"
   ]
  },
  {
   "cell_type": "markdown",
   "metadata": {},
   "source": [
    "<h3> Arithmetic with NumPy Arrays </h3>\n",
    "<ul>\n",
    "<li>Arrays are important because they enable you to express batch operations on data\n",
    "without writing any for loops. NumPy users call this vectorization. Any arithmetic\n",
    "operations between equal-size arrays applies the operation element-wise: </li>\n",
    "</ul>"
   ]
  },
  {
   "cell_type": "code",
   "execution_count": 34,
   "metadata": {},
   "outputs": [],
   "source": [
    "arr = np.array([[1, 2 , 3], [4, 5, 6]], dtype=np.float64)"
   ]
  },
  {
   "cell_type": "code",
   "execution_count": 35,
   "metadata": {},
   "outputs": [
    {
     "data": {
      "text/plain": [
       "array([[ 1.,  4.,  9.],\n",
       "       [16., 25., 36.]])"
      ]
     },
     "execution_count": 35,
     "metadata": {},
     "output_type": "execute_result"
    }
   ],
   "source": [
    "arr * arr"
   ]
  },
  {
   "cell_type": "code",
   "execution_count": 36,
   "metadata": {},
   "outputs": [
    {
     "data": {
      "text/plain": [
       "array([[0., 0., 0.],\n",
       "       [0., 0., 0.]])"
      ]
     },
     "execution_count": 36,
     "metadata": {},
     "output_type": "execute_result"
    }
   ],
   "source": [
    "arr - arr"
   ]
  },
  {
   "cell_type": "markdown",
   "metadata": {},
   "source": [
    "<p>Arithmetic operations with scalars propagate the scalar argument to each element in\n",
    "the array:</p>"
   ]
  },
  {
   "cell_type": "code",
   "execution_count": 37,
   "metadata": {},
   "outputs": [
    {
     "data": {
      "text/plain": [
       "array([[1.        , 0.5       , 0.33333333],\n",
       "       [0.25      , 0.2       , 0.16666667]])"
      ]
     },
     "execution_count": 37,
     "metadata": {},
     "output_type": "execute_result"
    }
   ],
   "source": [
    "1/arr"
   ]
  },
  {
   "cell_type": "code",
   "execution_count": 38,
   "metadata": {},
   "outputs": [
    {
     "data": {
      "text/plain": [
       "array([[1.000e+00, 3.200e+01, 2.430e+02],\n",
       "       [1.024e+03, 3.125e+03, 7.776e+03]])"
      ]
     },
     "execution_count": 38,
     "metadata": {},
     "output_type": "execute_result"
    }
   ],
   "source": [
    "arr ** 5"
   ]
  },
  {
   "cell_type": "markdown",
   "metadata": {},
   "source": [
    "<p>Comparisons between arrays of the same size yield boolean arrays:</p>"
   ]
  },
  {
   "cell_type": "code",
   "execution_count": 39,
   "metadata": {},
   "outputs": [],
   "source": [
    "arr2 = np.array([[0, 5, 1], \n",
    "                 [6, 5 , 10]], dtype=np.float64)"
   ]
  },
  {
   "cell_type": "code",
   "execution_count": 40,
   "metadata": {},
   "outputs": [
    {
     "data": {
      "text/plain": [
       "array([[False,  True, False],\n",
       "       [ True, False,  True]])"
      ]
     },
     "execution_count": 40,
     "metadata": {},
     "output_type": "execute_result"
    }
   ],
   "source": [
    "arr2 > arr"
   ]
  },
  {
   "cell_type": "code",
   "execution_count": 41,
   "metadata": {},
   "outputs": [
    {
     "data": {
      "text/plain": [
       "array([[False, False, False],\n",
       "       [False,  True, False]])"
      ]
     },
     "execution_count": 41,
     "metadata": {},
     "output_type": "execute_result"
    }
   ],
   "source": [
    "arr2 == arr"
   ]
  },
  {
   "cell_type": "markdown",
   "metadata": {},
   "source": [
    "<h4>Important term : broadcasting </h4>"
   ]
  },
  {
   "cell_type": "markdown",
   "metadata": {},
   "source": [
    "<ul>\n",
    "    <li> Operations between differently sized arrays is called <b>broadcasting</b> </li>\n",
    "    <li> Broadcasting is the process of making arrays with different shapes have compatible shapes for arithmetic operations. </li>\n",
    "</ul>"
   ]
  },
  {
   "cell_type": "markdown",
   "metadata": {},
   "source": [
    "<p> Here we say that the scalar value 4 has been broadcast to all of the other elements in\n",
    "the multiplication operation. : </p>"
   ]
  },
  {
   "cell_type": "code",
   "execution_count": 42,
   "metadata": {},
   "outputs": [
    {
     "data": {
      "text/plain": [
       "array([[ 4.,  8., 12.],\n",
       "       [16., 20., 24.]])"
      ]
     },
     "execution_count": 42,
     "metadata": {},
     "output_type": "execute_result"
    }
   ],
   "source": [
    "arr * 4"
   ]
  },
  {
   "cell_type": "code",
   "execution_count": 43,
   "metadata": {},
   "outputs": [
    {
     "data": {
      "text/plain": [
       "array([[ 5.,  6.,  7.],\n",
       "       [ 8.,  9., 10.]])"
      ]
     },
     "execution_count": 43,
     "metadata": {},
     "output_type": "execute_result"
    }
   ],
   "source": [
    "arr + 4"
   ]
  },
  {
   "cell_type": "markdown",
   "metadata": {},
   "source": [
    "<h3> Indexing and Slicing</h3>\n",
    "<ul>\n",
    "    <li> <b>arr[start:stop:step]</b> for 1d arrays </li>\n",
    "    <li> <b>arr[start:stop:step, start:stop:step, ....]</b> for more than  1d arrays </li> \n",
    "<ul>"
   ]
  },
  {
   "cell_type": "code",
   "execution_count": 44,
   "metadata": {},
   "outputs": [],
   "source": [
    "arr = np.arange(20)"
   ]
  },
  {
   "cell_type": "code",
   "execution_count": 45,
   "metadata": {},
   "outputs": [
    {
     "data": {
      "text/plain": [
       "array([ 0,  1,  2,  3,  4,  5,  6,  7,  8,  9, 10, 11, 12, 13, 14, 15, 16,\n",
       "       17, 18, 19])"
      ]
     },
     "execution_count": 45,
     "metadata": {},
     "output_type": "execute_result"
    }
   ],
   "source": [
    "arr"
   ]
  },
  {
   "cell_type": "code",
   "execution_count": 46,
   "metadata": {},
   "outputs": [
    {
     "data": {
      "text/plain": [
       "4"
      ]
     },
     "execution_count": 46,
     "metadata": {},
     "output_type": "execute_result"
    }
   ],
   "source": [
    "arr[4]"
   ]
  },
  {
   "cell_type": "code",
   "execution_count": 47,
   "metadata": {},
   "outputs": [
    {
     "data": {
      "text/plain": [
       "array([4, 5, 6])"
      ]
     },
     "execution_count": 47,
     "metadata": {},
     "output_type": "execute_result"
    }
   ],
   "source": [
    "arr[4:7]"
   ]
  },
  {
   "cell_type": "code",
   "execution_count": 48,
   "metadata": {},
   "outputs": [
    {
     "data": {
      "text/plain": [
       "array([0, 1, 2, 3, 4, 5])"
      ]
     },
     "execution_count": 48,
     "metadata": {},
     "output_type": "execute_result"
    }
   ],
   "source": [
    "arr[:6]"
   ]
  },
  {
   "cell_type": "code",
   "execution_count": 49,
   "metadata": {},
   "outputs": [
    {
     "data": {
      "text/plain": [
       "array([2, 4, 6, 8])"
      ]
     },
     "execution_count": 49,
     "metadata": {},
     "output_type": "execute_result"
    }
   ],
   "source": [
    "arr[2:10:2]"
   ]
  },
  {
   "cell_type": "markdown",
   "metadata": {},
   "source": [
    "<p><b>Tip: </b> In numpy arrays and python's list [a:b] slicing from N index means [a,b) in math. or [a, b-1]"
   ]
  },
  {
   "cell_type": "code",
   "execution_count": 50,
   "metadata": {},
   "outputs": [],
   "source": [
    "arr[3:5] = 256\n",
    "# arr.__setitem__(slice(3,5), 256)"
   ]
  },
  {
   "cell_type": "code",
   "execution_count": 51,
   "metadata": {},
   "outputs": [
    {
     "data": {
      "text/plain": [
       "array([  0,   1,   2, 256, 256,   5,   6,   7,   8,   9,  10,  11,  12,\n",
       "        13,  14,  15,  16,  17,  18,  19])"
      ]
     },
     "execution_count": 51,
     "metadata": {},
     "output_type": "execute_result"
    }
   ],
   "source": [
    "arr"
   ]
  },
  {
   "cell_type": "markdown",
   "metadata": {},
   "source": [
    "<h4>Advanced Tip :</h4>\n",
    "<ul>\n",
    "    <li> <b>arr[start:stop:step]</b> means: <b>arr[slice(start, stop, step)]</b> </li>\n",
    "    <li> <b> arr[index] </b> means: <b>arr.__getitem__(index)</b>\n",
    "    <li> <b>arr[index] = value </b> means: <b>arr.__setitem__(index, value)</b> </li>\n",
    "</ul>\n",
    "<p> numpy use above facilities to enhance user experience </p><br>"
   ]
  },
  {
   "cell_type": "code",
   "execution_count": 52,
   "metadata": {},
   "outputs": [],
   "source": [
    "arr_slice = arr[1:4]"
   ]
  },
  {
   "cell_type": "code",
   "execution_count": 53,
   "metadata": {},
   "outputs": [
    {
     "data": {
      "text/plain": [
       "array([  1,   2, 256])"
      ]
     },
     "execution_count": 53,
     "metadata": {},
     "output_type": "execute_result"
    }
   ],
   "source": [
    "arr_slice"
   ]
  },
  {
   "cell_type": "code",
   "execution_count": 54,
   "metadata": {},
   "outputs": [],
   "source": [
    "arr_slice[0]=9999"
   ]
  },
  {
   "cell_type": "code",
   "execution_count": 55,
   "metadata": {},
   "outputs": [
    {
     "data": {
      "text/plain": [
       "array([   0, 9999,    2,  256,  256,    5,    6,    7,    8,    9,   10,\n",
       "         11,   12,   13,   14,   15,   16,   17,   18,   19])"
      ]
     },
     "execution_count": 55,
     "metadata": {},
     "output_type": "execute_result"
    }
   ],
   "source": [
    "arr"
   ]
  },
  {
   "cell_type": "markdown",
   "metadata": {},
   "source": [
    "<p> change values in arr_slice , the mutations are reflected in the original array arr </p><br>"
   ]
  },
  {
   "cell_type": "markdown",
   "metadata": {},
   "source": [
    "<h4> Slicing in higher dimension arrays: </h4><br>"
   ]
  },
  {
   "cell_type": "code",
   "execution_count": 56,
   "metadata": {},
   "outputs": [],
   "source": [
    "arr2d = np.array([[1, 2, 3], [4, 5, 6], [7, 8, 9]])"
   ]
  },
  {
   "cell_type": "code",
   "execution_count": 57,
   "metadata": {},
   "outputs": [
    {
     "data": {
      "text/plain": [
       "array([[1, 2, 3],\n",
       "       [4, 5, 6],\n",
       "       [7, 8, 9]])"
      ]
     },
     "execution_count": 57,
     "metadata": {},
     "output_type": "execute_result"
    }
   ],
   "source": [
    "arr2d"
   ]
  },
  {
   "cell_type": "code",
   "execution_count": 58,
   "metadata": {},
   "outputs": [
    {
     "data": {
      "text/plain": [
       "array([4, 5, 6])"
      ]
     },
     "execution_count": 58,
     "metadata": {},
     "output_type": "execute_result"
    }
   ],
   "source": [
    "arr2d[1]"
   ]
  },
  {
   "cell_type": "code",
   "execution_count": 59,
   "metadata": {},
   "outputs": [
    {
     "data": {
      "text/plain": [
       "7"
      ]
     },
     "execution_count": 59,
     "metadata": {},
     "output_type": "execute_result"
    }
   ],
   "source": [
    "arr2d[2][0]"
   ]
  },
  {
   "cell_type": "code",
   "execution_count": 60,
   "metadata": {},
   "outputs": [
    {
     "data": {
      "text/plain": [
       "8"
      ]
     },
     "execution_count": 60,
     "metadata": {},
     "output_type": "execute_result"
    }
   ],
   "source": [
    "arr2d[2, 1]"
   ]
  },
  {
   "cell_type": "markdown",
   "metadata": {},
   "source": [
    "<h4>Indexing elements in a NumPy array</h4><br>\n",
    "<img src=\"https://raw.githubusercontent.com/h8hawk/Datacamp-Scientific-Python/master/files/numpy_2darray.jpg\"/>"
   ]
  },
  {
   "cell_type": "code",
   "execution_count": 61,
   "metadata": {},
   "outputs": [
    {
     "data": {
      "text/plain": [
       "array([[2, 3],\n",
       "       [5, 6]])"
      ]
     },
     "execution_count": 61,
     "metadata": {},
     "output_type": "execute_result"
    }
   ],
   "source": [
    "arr2d[:2, 1:] # Rows: start until 2  , columns: 1 until end"
   ]
  },
  {
   "cell_type": "code",
   "execution_count": 62,
   "metadata": {},
   "outputs": [
    {
     "data": {
      "text/plain": [
       "array([3, 6])"
      ]
     },
     "execution_count": 62,
     "metadata": {},
     "output_type": "execute_result"
    }
   ],
   "source": [
    "arr2d[:2, 2] "
   ]
  },
  {
   "cell_type": "code",
   "execution_count": 63,
   "metadata": {},
   "outputs": [
    {
     "data": {
      "text/plain": [
       "array([[1],\n",
       "       [4],\n",
       "       [7]])"
      ]
     },
     "execution_count": 63,
     "metadata": {},
     "output_type": "execute_result"
    }
   ],
   "source": [
    "arr2d[:, :1]"
   ]
  },
  {
   "cell_type": "code",
   "execution_count": 64,
   "metadata": {},
   "outputs": [
    {
     "data": {
      "text/plain": [
       "array([2, 5, 8])"
      ]
     },
     "execution_count": 64,
     "metadata": {},
     "output_type": "execute_result"
    }
   ],
   "source": [
    "arr2d[:, 1]"
   ]
  },
  {
   "cell_type": "markdown",
   "metadata": {},
   "source": [
    "<h4> Boolean Indexing </h4>\n",
    "<p> This boolean array can be passed when indexing the array. </p><br>"
   ]
  },
  {
   "cell_type": "code",
   "execution_count": 65,
   "metadata": {},
   "outputs": [],
   "source": [
    "data = np.random.randn(4, 4)"
   ]
  },
  {
   "cell_type": "code",
   "execution_count": 66,
   "metadata": {},
   "outputs": [],
   "source": [
    "boolean_index = (data < -.5) | (data > .5)"
   ]
  },
  {
   "cell_type": "code",
   "execution_count": 67,
   "metadata": {},
   "outputs": [
    {
     "data": {
      "text/plain": [
       "array([[ True,  True, False, False],\n",
       "       [ True,  True,  True,  True],\n",
       "       [False, False,  True,  True],\n",
       "       [False,  True,  True,  True]])"
      ]
     },
     "execution_count": 67,
     "metadata": {},
     "output_type": "execute_result"
    }
   ],
   "source": [
    "boolean_index"
   ]
  },
  {
   "cell_type": "code",
   "execution_count": 68,
   "metadata": {},
   "outputs": [
    {
     "data": {
      "text/plain": [
       "array([-0.81190105,  0.64287157, -0.81643838,  0.83030652,  1.24279776,\n",
       "        2.78548325,  1.82132827,  0.93615469,  1.44382825, -0.76769643,\n",
       "        0.87566673])"
      ]
     },
     "execution_count": 68,
     "metadata": {},
     "output_type": "execute_result"
    }
   ],
   "source": [
    "data[boolean_index]"
   ]
  },
  {
   "cell_type": "markdown",
   "metadata": {},
   "source": [
    "<h4> Fancy Indexing :</h4><br>"
   ]
  },
  {
   "cell_type": "code",
   "execution_count": 69,
   "metadata": {},
   "outputs": [],
   "source": [
    "arr = np.random.randn(8, 4)"
   ]
  },
  {
   "cell_type": "code",
   "execution_count": 70,
   "metadata": {},
   "outputs": [
    {
     "data": {
      "text/plain": [
       "array([[ 0.71095284, -0.21156428, -1.02465039,  1.06395832],\n",
       "       [ 1.24830765, -0.52586605,  1.19669432,  0.59715744],\n",
       "       [-1.60072449, -1.87457114,  1.86685975, -1.11385137],\n",
       "       [-0.41914867, -0.30478736,  1.14078682,  0.61781727],\n",
       "       [ 0.53591623, -0.22937595, -0.05659173,  0.18207533],\n",
       "       [-0.76107827,  0.90820175, -0.40861742,  0.40199009],\n",
       "       [ 2.09230733, -0.31575278, -0.3389437 , -0.1356881 ],\n",
       "       [-0.82547347, -2.22851079,  1.87552509,  1.39262296]])"
      ]
     },
     "execution_count": 70,
     "metadata": {},
     "output_type": "execute_result"
    }
   ],
   "source": [
    "arr"
   ]
  },
  {
   "cell_type": "code",
   "execution_count": 71,
   "metadata": {},
   "outputs": [
    {
     "data": {
      "text/plain": [
       "array([[ 0.53591623, -0.22937595, -0.05659173,  0.18207533],\n",
       "       [-0.41914867, -0.30478736,  1.14078682,  0.61781727],\n",
       "       [ 0.71095284, -0.21156428, -1.02465039,  1.06395832],\n",
       "       [ 2.09230733, -0.31575278, -0.3389437 , -0.1356881 ]])"
      ]
     },
     "execution_count": 71,
     "metadata": {},
     "output_type": "execute_result"
    }
   ],
   "source": [
    "arr[[4, 3, 0, 6]]"
   ]
  },
  {
   "cell_type": "code",
   "execution_count": 72,
   "metadata": {},
   "outputs": [
    {
     "data": {
      "text/plain": [
       "array([ 0.59715744, -0.31575278])"
      ]
     },
     "execution_count": 72,
     "metadata": {},
     "output_type": "execute_result"
    }
   ],
   "source": [
    "arr[[1, 6], [3, 1]]"
   ]
  },
  {
   "cell_type": "markdown",
   "metadata": {},
   "source": [
    "<h3> Reshaping and Transposing Arrays and Swapping Axes </h3><br>"
   ]
  },
  {
   "cell_type": "code",
   "execution_count": 74,
   "metadata": {},
   "outputs": [],
   "source": [
    "arr = np.arange(15)"
   ]
  },
  {
   "cell_type": "code",
   "execution_count": 75,
   "metadata": {},
   "outputs": [
    {
     "data": {
      "text/plain": [
       "array([ 0,  1,  2,  3,  4,  5,  6,  7,  8,  9, 10, 11, 12, 13, 14])"
      ]
     },
     "execution_count": 75,
     "metadata": {},
     "output_type": "execute_result"
    }
   ],
   "source": [
    "arr"
   ]
  },
  {
   "cell_type": "code",
   "execution_count": 76,
   "metadata": {},
   "outputs": [
    {
     "data": {
      "text/plain": [
       "array([[ 0,  1,  2,  3,  4],\n",
       "       [ 5,  6,  7,  8,  9],\n",
       "       [10, 11, 12, 13, 14]])"
      ]
     },
     "execution_count": 76,
     "metadata": {},
     "output_type": "execute_result"
    }
   ],
   "source": [
    "arr.reshape((3,5))"
   ]
  },
  {
   "cell_type": "code",
   "execution_count": 78,
   "metadata": {},
   "outputs": [
    {
     "ename": "ValueError",
     "evalue": "cannot reshape array of size 15 into shape (4,8)",
     "output_type": "error",
     "traceback": [
      "\u001b[0;31m---------------------------------------------------------------------------\u001b[0m",
      "\u001b[0;31mValueError\u001b[0m                                Traceback (most recent call last)",
      "\u001b[0;32m<ipython-input-78-47d47e91f2ad>\u001b[0m in \u001b[0;36m<module>\u001b[0;34m\u001b[0m\n\u001b[0;32m----> 1\u001b[0;31m \u001b[0marr\u001b[0m\u001b[0;34m.\u001b[0m\u001b[0mreshape\u001b[0m\u001b[0;34m(\u001b[0m\u001b[0;34m(\u001b[0m\u001b[0;36m4\u001b[0m\u001b[0;34m,\u001b[0m\u001b[0;36m8\u001b[0m\u001b[0;34m)\u001b[0m\u001b[0;34m)\u001b[0m\u001b[0;34m\u001b[0m\u001b[0;34m\u001b[0m\u001b[0m\n\u001b[0m",
      "\u001b[0;31mValueError\u001b[0m: cannot reshape array of size 15 into shape (4,8)"
     ]
    }
   ],
   "source": [
    "arr.reshape((4,8))"
   ]
  },
  {
   "cell_type": "code",
   "execution_count": 82,
   "metadata": {},
   "outputs": [],
   "source": [
    "arr = arr.reshape((5,3))"
   ]
  },
  {
   "cell_type": "code",
   "execution_count": 83,
   "metadata": {},
   "outputs": [
    {
     "data": {
      "text/plain": [
       "array([[ 0,  1,  2],\n",
       "       [ 3,  4,  5],\n",
       "       [ 6,  7,  8],\n",
       "       [ 9, 10, 11],\n",
       "       [12, 13, 14]])"
      ]
     },
     "execution_count": 83,
     "metadata": {},
     "output_type": "execute_result"
    }
   ],
   "source": [
    "arr"
   ]
  },
  {
   "cell_type": "code",
   "execution_count": 84,
   "metadata": {},
   "outputs": [
    {
     "data": {
      "text/plain": [
       "array([[ 0,  3,  6,  9, 12],\n",
       "       [ 1,  4,  7, 10, 13],\n",
       "       [ 2,  5,  8, 11, 14]])"
      ]
     },
     "execution_count": 84,
     "metadata": {},
     "output_type": "execute_result"
    }
   ],
   "source": [
    "arr.T"
   ]
  },
  {
   "cell_type": "markdown",
   "metadata": {},
   "source": [
    "<h4> Universal Functions: Fast Element-Wise Array Functions </h4>\n",
    "<ul>\n",
    "    <li>A universal function, or <b>ufunc</b>, is a function that performs element-wise operations\n",
    "        on data in ndarrays.</li>\n",
    "</ul><br>"
   ]
  },
  {
   "cell_type": "code",
   "execution_count": 103,
   "metadata": {},
   "outputs": [],
   "source": [
    "arr = np.arange(10)"
   ]
  },
  {
   "cell_type": "code",
   "execution_count": 104,
   "metadata": {},
   "outputs": [
    {
     "data": {
      "text/plain": [
       "array([0, 1, 2, 3, 4, 5, 6, 7, 8, 9])"
      ]
     },
     "execution_count": 104,
     "metadata": {},
     "output_type": "execute_result"
    }
   ],
   "source": [
    "arr"
   ]
  },
  {
   "cell_type": "code",
   "execution_count": 105,
   "metadata": {},
   "outputs": [
    {
     "data": {
      "text/plain": [
       "array([0.        , 1.        , 1.41421356, 1.73205081, 2.        ,\n",
       "       2.23606798, 2.44948974, 2.64575131, 2.82842712, 3.        ])"
      ]
     },
     "execution_count": 105,
     "metadata": {},
     "output_type": "execute_result"
    }
   ],
   "source": [
    "np.sqrt(arr)"
   ]
  },
  {
   "cell_type": "code",
   "execution_count": 106,
   "metadata": {},
   "outputs": [
    {
     "data": {
      "text/plain": [
       "array([1.00000000e+00, 2.71828183e+00, 7.38905610e+00, 2.00855369e+01,\n",
       "       5.45981500e+01, 1.48413159e+02, 4.03428793e+02, 1.09663316e+03,\n",
       "       2.98095799e+03, 8.10308393e+03])"
      ]
     },
     "execution_count": 106,
     "metadata": {},
     "output_type": "execute_result"
    }
   ],
   "source": [
    "np.exp(arr)"
   ]
  },
  {
   "cell_type": "code",
   "execution_count": 107,
   "metadata": {},
   "outputs": [
    {
     "data": {
      "text/plain": [
       "9"
      ]
     },
     "execution_count": 107,
     "metadata": {},
     "output_type": "execute_result"
    }
   ],
   "source": [
    "np.max(arr)"
   ]
  },
  {
   "cell_type": "code",
   "execution_count": 108,
   "metadata": {},
   "outputs": [
    {
     "data": {
      "text/plain": [
       "0"
      ]
     },
     "execution_count": 108,
     "metadata": {},
     "output_type": "execute_result"
    }
   ],
   "source": [
    "np.min(arr)"
   ]
  },
  {
   "cell_type": "code",
   "execution_count": 110,
   "metadata": {},
   "outputs": [
    {
     "data": {
      "text/plain": [
       "4.5"
      ]
     },
     "execution_count": 110,
     "metadata": {},
     "output_type": "execute_result"
    }
   ],
   "source": [
    "np.mean(arr)"
   ]
  },
  {
   "cell_type": "code",
   "execution_count": 111,
   "metadata": {},
   "outputs": [
    {
     "data": {
      "text/plain": [
       "array([0, 1, 2, 3, 4, 5, 6, 7, 8, 9])"
      ]
     },
     "execution_count": 111,
     "metadata": {},
     "output_type": "execute_result"
    }
   ],
   "source": [
    "np.absolute(arr)"
   ]
  },
  {
   "cell_type": "markdown",
   "metadata": {},
   "source": [
    "<p> These are referred to as unary ufuncs. Others, such as add or maximum , take two arrays\n",
    "(thus, binary ufuncs) and return a single array as the result: </p>"
   ]
  },
  {
   "cell_type": "code",
   "execution_count": 112,
   "metadata": {},
   "outputs": [],
   "source": [
    "x = np.random.randn(6)"
   ]
  },
  {
   "cell_type": "code",
   "execution_count": 113,
   "metadata": {},
   "outputs": [],
   "source": [
    "y = np.random.randn(6)"
   ]
  },
  {
   "cell_type": "code",
   "execution_count": 114,
   "metadata": {},
   "outputs": [
    {
     "data": {
      "text/plain": [
       "(array([-0.44458166, -0.29257846, -0.61201424,  0.27316785, -0.2963726 ,\n",
       "        -0.19993381]),\n",
       " array([-0.54979466,  0.36048926, -0.2193441 , -1.50527013, -1.0900603 ,\n",
       "         0.85222855]))"
      ]
     },
     "execution_count": 114,
     "metadata": {},
     "output_type": "execute_result"
    }
   ],
   "source": [
    "x, y"
   ]
  },
  {
   "cell_type": "code",
   "execution_count": 115,
   "metadata": {},
   "outputs": [
    {
     "data": {
      "text/plain": [
       "array([-0.44458166,  0.36048926, -0.2193441 ,  0.27316785, -0.2963726 ,\n",
       "        0.85222855])"
      ]
     },
     "execution_count": 115,
     "metadata": {},
     "output_type": "execute_result"
    }
   ],
   "source": [
    "np.maximum(x, y)"
   ]
  },
  {
   "cell_type": "markdown",
   "metadata": {},
   "source": [
    "<h4> Unary ufuncs:  </h4>\n",
    "<ul>\n",
    "    <li><b>abs, fabs</b> : Compute the absolute value element-wise for integer, floating-point, or complex values</li>\n",
    "    <li><b>sqrt</b> : Compute the square root of each element (equivalent to arr ** 0.5 )</li>\n",
    "    <li><b>square</b> : Compute the square of each element (equivalent to arr ** 2 )</li>\n",
    "    <li><b>exp</b> : Compute the exponent e x of each element</li>\n",
    "        <li><b>log, log10, log2, log1p</b> : Natural logarithm (base e), log base 10, log base 2, and log(1 + x),  respectively</li>\n",
    "    <li><b>sign</b> : Compute the sign of each element: 1 (positive), 0 (zero), or –1 (negative)</li>\n",
    "    <li><b>ceil</b> : Compute the ceiling of each element (i.e., the smallest integer greater than or equal to that\n",
    "number) </li>\n",
    "    <li><b>floor</b> : Compute the floor of each element (i.e., the largest integer less than or equal to each element) </li>\n",
    "    <li><b>rint</b> : Round elements to the nearest integer, preserving the dtype </li>\n",
    "    <li><b>modf</b> : Return fractional and integral parts of array as a separate array</li>\n",
    "    <li><b>isnan</b> : Return boolean array indicating whether each value is NaN (Not a Number) </li>\n",
    "    <li><b>isfinite, isinf </b> : Return boolean array indicating whether each element is finite (non- inf , non- NaN ) or infinite,\n",
    "respectively </li>\n",
    "    <li><b>cos, cosh, sin, sinh, tan, tanh</b> : Regular and hyperbolic trigonometric functions</li>\n",
    "    <li><b>arccos, arccosh, arcsin, arcsinh, arctan, arctanh</b> : Inverse trigonometric functions </li>\n",
    "    <li><b>logical_not</b> : Compute truth value of not x element-wise (equivalent to ~arr ). </li>\n",
    "</ul>\n",
    "\n",
    "    "
   ]
  },
  {
   "cell_type": "markdown",
   "metadata": {},
   "source": [
    "<h3> Binary universal functions: </h3>\n",
    "<ul>\n",
    "    <li><b>add</b> : Add corresponding elements in arrays</li>\n",
    "    <li><b>subtract</b> : Subtract elements in second array from first array</li>\n",
    "    <li><b>multiply</b> : Multiply array elements</li>\n",
    "    <li><b>divide, floor_divide</b> : Divide or floor divide (truncating the remainder)</li>\n",
    "    <li><b>power</b> : Raise elements in first array to powers indicated in second array</li>\n",
    "    <li><b>maximum, fmax</b> : Element-wise maximum; fmax ignores NaN</li>\n",
    "    <li><b>minimum, fmin</b> : Element-wise minimum; fmin ignores NaN</li>\n",
    "    <li><b>mod</b> : Element-wise modulus (remainder of division)</li>\n",
    "    <li><b>copysign</b> : Copy sign of values in second argument to values in first argument</li>\n",
    "    <li><b>greater, greater_equal, less, less_equal, equal, not_equal</b> : Perform element-wise comparison, yielding boolean array (equivalent to infix\n",
    "operators >, >=, <, <=, ==, !=)</li>\n",
    "    <li><b>logical_and, logical_or, logical_xor</b> : Compute element-wise truth value of logical operation (equivalent to infix operators\n",
    "& |, ^ )</li>\n",
    "\n",
    "</ul>"
   ]
  },
  {
   "cell_type": "code",
   "execution_count": null,
   "metadata": {},
   "outputs": [],
   "source": []
  }
 ],
 "metadata": {
  "kernelspec": {
   "display_name": "Python 3",
   "language": "python",
   "name": "python3"
  },
  "language_info": {
   "codemirror_mode": {
    "name": "ipython",
    "version": 3
   },
   "file_extension": ".py",
   "mimetype": "text/x-python",
   "name": "python",
   "nbconvert_exporter": "python",
   "pygments_lexer": "ipython3",
   "version": "3.7.1"
  }
 },
 "nbformat": 4,
 "nbformat_minor": 2
}
