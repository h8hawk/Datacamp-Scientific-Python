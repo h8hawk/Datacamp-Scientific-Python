{
 "cells": [
  {
   "cell_type": "markdown",
   "metadata": {},
   "source": [
    "<h3>    What is Numpy </h3>\n",
    "\n",
    "NumPy, short for Numerical Python, is one of the most important foundational packages for numerical computing in Python. Most computational packages providing\n",
    "scientific functionality use NumPy’s array objects as the lingua franca for data\n",
    "exchange.\n",
    "\n",
    "<h4> What numpy provides: </h4>\n",
    "\n",
    "<ul>\n",
    "    <li> ndarray, an efficient multidimensional array providing fast array-oriented arithmetic operations and flexible broadcasting capabilities. </li>\n",
    "    <li> Mathematical functions for fast operations on entire arrays of data without having to write loops. </li>\n",
    "    <li> Linear algebra, random number generation </li>\n",
    "    <li> A C API for connecting NumPy with libraries written in C, C++ </li>\n",
    "</ul>\n",
    "\n",
    "<h4> Why using It instead of python's list </h4>\n",
    "\n",
    "<ul>\n",
    "    <li> Provide matrix and vector operations </li>\n",
    "    <li> It's written in C optimized code. Much more faster and memory efficient.(up to hundreds time faster and ten's time more memory efficient)</li>\n",
    "    <li>provides an easy-to-use C API, it is straightforward to pass data to external libraries written in a low-level language and also for external libraries to return data to Python as NumPy arrays.</li>\n",
    "</ul>\n",
    "\n",
    "<h3> Deference between numpy array and python's list </h3><br><br><br>\n",
    "<img src=\"https://raw.githubusercontent.com/h8hawk/Datacamp-Scientific-Python/master/files/array_vs_list.png\"/>"
   ]
  },
  {
   "cell_type": "markdown",
   "metadata": {},
   "source": [
    "<h3> What provides in this courese? </h3>\n",
    "\n",
    "<ul>\n",
    "    <li> Fast vectorized array operations for data munging and cleaning, subsetting and\n",
    "        filtering, transformation, and any other kinds of computations </li>\n",
    "    <li> Common array algorithms like sorting, unique, and set operations </li>\n",
    "    <li> Efficient descriptive statistics and aggregating/summarizing data </li>\n",
    "    <li> Data alignment and relational data manipulations for merging and joining\n",
    "        together heterogeneous datasets </li>\n",
    "    <li> Expressing conditional logic as array expressions instead of loops with if-elif-\n",
    "        else branches </li>\n",
    "    <li> Group-wise data manipulations (aggregation, transformation, function applica‐\n",
    "        tion)</li>\n",
    "</ul>"
   ]
  },
  {
   "cell_type": "markdown",
   "metadata": {},
   "source": [
    "\n",
    "<h3> How numpy works </h3>\n",
    "\n",
    "<ul>\n",
    "    <li> NumPy internally stores data in a contiguous block of memory, independent of\n",
    "other built-in Python objects. NumPy’s library of algorithms written in the C language can operate on this memory without any type checking or other overhead. NumPy arrays also use much less memory than built-in Python sequences.</li>\n",
    "    <li> NumPy operations perform complex computations on entire arrays without the\n",
    "    need for Python for loops. </li>\n",
    "    \n",
    "</ul>"
   ]
  },
  {
   "cell_type": "markdown",
   "metadata": {},
   "source": [
    "\n",
    "<h3> The NumPy ndarray: A Multidimensional Array Object </h3>\n",
    "\n",
    "<ul> \n",
    "    <li> One of the key features of numpy is its N-dimensional array object, or <b>ndarray</b>, which is a fast, flexible container for large datasets in Python. </li>\n",
    "    <li>Arrays enable to perform mathematical operations on whole blocks of data using similar syntax to the equivalent operations between scalar elements. </li>\n",
    "</ul>\n",
    "\n"
   ]
  },
  {
   "cell_type": "markdown",
   "metadata": {},
   "source": [
    "\n",
    "<h4> First look at numpy array: </h4>"
   ]
  },
  {
   "cell_type": "markdown",
   "metadata": {},
   "source": [
    "Importing numpy module and prefixing it by <b>np</b>:"
   ]
  },
  {
   "cell_type": "code",
   "execution_count": 1,
   "metadata": {},
   "outputs": [],
   "source": [
    "import numpy as np"
   ]
  },
  {
   "cell_type": "markdown",
   "metadata": {},
   "source": [
    "Generate Some random data.  \n",
    "<a href=\"https://docs.scipy.org/doc/numpy/reference/generated/numpy.random.RandomState.html#numpy.random.RandomState\">How numpy generate random numbers? </a>"
   ]
  },
  {
   "cell_type": "code",
   "execution_count": 2,
   "metadata": {},
   "outputs": [],
   "source": [
    "data = np.random.randn(2,3)"
   ]
  },
  {
   "cell_type": "code",
   "execution_count": 3,
   "metadata": {},
   "outputs": [
    {
     "data": {
      "text/plain": [
       "array([[ 0.45993638, -1.16380581,  0.40610151],\n",
       "       [ 2.75292933, -0.72998003,  0.23324967]])"
      ]
     },
     "execution_count": 3,
     "metadata": {},
     "output_type": "execute_result"
    }
   ],
   "source": [
    "data"
   ]
  },
  {
   "cell_type": "markdown",
   "metadata": {},
   "source": [
    "<p> Mathematical operation with <b>data</b> </p>"
   ]
  },
  {
   "cell_type": "code",
   "execution_count": 4,
   "metadata": {},
   "outputs": [
    {
     "data": {
      "text/plain": [
       "array([[  4.59936376, -11.63805806,   4.06101507],\n",
       "       [ 27.52929328,  -7.29980028,   2.33249675]])"
      ]
     },
     "execution_count": 4,
     "metadata": {},
     "output_type": "execute_result"
    }
   ],
   "source": [
    "data * 10"
   ]
  },
  {
   "cell_type": "markdown",
   "metadata": {},
   "source": [
    "<p> all of the elements of <b>data</b> have been multiplied by 10. </p>"
   ]
  },
  {
   "cell_type": "markdown",
   "metadata": {},
   "source": [
    "<h3> Some properties of numpy array's (ndarray) </h3>\n",
    "<ul>\n",
    "    <li> An ndarray is a generic multidimensional container for homogeneous data : all\n",
    "        of the elements must be the same type. </li>\n",
    "    <li> Every array has a <b>shape</b> : a tuple indicating the\n",
    "        size of each dimension </li>\n",
    "    <li> Every array has a <b>dtype</b> : an object describing the data type of the array </li>\n",
    "</ul>"
   ]
  },
  {
   "cell_type": "markdown",
   "metadata": {},
   "source": [
    "For 'data':"
   ]
  },
  {
   "cell_type": "code",
   "execution_count": 5,
   "metadata": {},
   "outputs": [
    {
     "data": {
      "text/plain": [
       "(2, 3)"
      ]
     },
     "execution_count": 5,
     "metadata": {},
     "output_type": "execute_result"
    }
   ],
   "source": [
    "data.shape"
   ]
  },
  {
   "cell_type": "code",
   "execution_count": 6,
   "metadata": {},
   "outputs": [
    {
     "data": {
      "text/plain": [
       "dtype('float64')"
      ]
     },
     "execution_count": 6,
     "metadata": {},
     "output_type": "execute_result"
    }
   ],
   "source": [
    "data.dtype"
   ]
  },
  {
   "cell_type": "markdown",
   "metadata": {},
   "source": [
    "<h3> Creating ndarray's </h3>\n",
    "<ul>\n",
    "    <li> Easies way: using <b>array</b> function </li>\n",
    "</ul>"
   ]
  },
  {
   "cell_type": "markdown",
   "metadata": {},
   "source": [
    "First make python list:"
   ]
  },
  {
   "cell_type": "code",
   "execution_count": 7,
   "metadata": {},
   "outputs": [],
   "source": [
    "data1 = [4, 5.3, 8, 9, 12]"
   ]
  },
  {
   "cell_type": "code",
   "execution_count": 8,
   "metadata": {},
   "outputs": [],
   "source": [
    "arr1 = np.array(data1)"
   ]
  },
  {
   "cell_type": "code",
   "execution_count": 9,
   "metadata": {},
   "outputs": [
    {
     "name": "stdout",
     "output_type": "stream",
     "text": [
      "[ 4.   5.3  8.   9.  12. ]\n"
     ]
    }
   ],
   "source": [
    "print(arr1)"
   ]
  },
  {
   "cell_type": "markdown",
   "metadata": {},
   "source": [
    "Nested sequence :"
   ]
  },
  {
   "cell_type": "code",
   "execution_count": 10,
   "metadata": {},
   "outputs": [],
   "source": [
    "nested_seq = [[1, 2, 3], [4, 5, 6]]"
   ]
  },
  {
   "cell_type": "code",
   "execution_count": 11,
   "metadata": {},
   "outputs": [],
   "source": [
    "nested_arr = np.array(nested_seq)"
   ]
  },
  {
   "cell_type": "code",
   "execution_count": 12,
   "metadata": {},
   "outputs": [
    {
     "name": "stdout",
     "output_type": "stream",
     "text": [
      "[[1 2 3]\n",
      " [4 5 6]]\n"
     ]
    }
   ],
   "source": [
    "print(nested_arr)"
   ]
  },
  {
   "cell_type": "code",
   "execution_count": 13,
   "metadata": {},
   "outputs": [
    {
     "data": {
      "text/plain": [
       "2"
      ]
     },
     "execution_count": 13,
     "metadata": {},
     "output_type": "execute_result"
    }
   ],
   "source": [
    "nested_arr.ndim"
   ]
  },
  {
   "cell_type": "code",
   "execution_count": 14,
   "metadata": {},
   "outputs": [
    {
     "data": {
      "text/plain": [
       "(2, 3)"
      ]
     },
     "execution_count": 14,
     "metadata": {},
     "output_type": "execute_result"
    }
   ],
   "source": [
    "nested_arr.shape"
   ]
  },
  {
   "cell_type": "code",
   "execution_count": 15,
   "metadata": {},
   "outputs": [
    {
     "data": {
      "text/plain": [
       "dtype('int64')"
      ]
     },
     "execution_count": 15,
     "metadata": {},
     "output_type": "execute_result"
    }
   ],
   "source": [
    "nested_arr.dtype"
   ]
  },
  {
   "cell_type": "markdown",
   "metadata": {},
   "source": [
    "<h3> Some properties of numpy array's (ndarray) </h3>\n",
    "<ul>\n",
    "    <li> Unless explicitly specified, <b>np.array</b> tries to infer a good data\n",
    "        type for the array that it creates. The data type is stored <b>dtype</b> </li>\n",
    "</ul>\n",
    "<br>"
   ]
  },
  {
   "cell_type": "markdown",
   "metadata": {},
   "source": [
    "<h4> There are a number of other functions for creating new\n",
    "arrays: </h4>\n",
    "<ul>\n",
    "    <li> <b>zeros</b> : create arrays of 0s </li>\n",
    "    <li> <b>ones</b> : create arrays of 1s </li>\n",
    "    <li> <b>empty</b> : creates an array without initializing its values to any particular value.</li>\n",
    "    <li> <b>arange</b> : Like the built-in <b>range</b> but returns an ndarray instead of a list</li>\n",
    "    <li> <b> ones_like </b> : produces a ones array of the same shape and dtype </li>\n",
    "    <li> <b> zeros_like </b> : Like <b>ones_like</b> but for zeros </li>\n",
    "    <li> <b> full </b> : Produce an array of the given shape and dtype with all values set to the indicated “fill value”</li>\n",
    "    <li> <b> eye</b>, <b>identity </b> : Create a square N × N identity matrix (1s on the diagonal and 0s elsewhere) \n",
    "</ul>"
   ]
  },
  {
   "cell_type": "code",
   "execution_count": 16,
   "metadata": {},
   "outputs": [
    {
     "data": {
      "text/plain": [
       "array([[0., 0., 0.],\n",
       "       [0., 0., 0.],\n",
       "       [0., 0., 0.],\n",
       "       [0., 0., 0.]])"
      ]
     },
     "execution_count": 16,
     "metadata": {},
     "output_type": "execute_result"
    }
   ],
   "source": [
    "np.zeros((4,3))"
   ]
  },
  {
   "cell_type": "code",
   "execution_count": 17,
   "metadata": {},
   "outputs": [
    {
     "data": {
      "text/plain": [
       "array([[1., 1., 1.],\n",
       "       [1., 1., 1.],\n",
       "       [1., 1., 1.],\n",
       "       [1., 1., 1.]])"
      ]
     },
     "execution_count": 17,
     "metadata": {},
     "output_type": "execute_result"
    }
   ],
   "source": [
    "np.ones((4,3))"
   ]
  },
  {
   "cell_type": "code",
   "execution_count": 18,
   "metadata": {},
   "outputs": [
    {
     "data": {
      "text/plain": [
       "array([[1.64596982e-316, 7.58445798e-302, 2.01160983e-309,\n",
       "        9.77801185e+199, 2.44046782e-152, 1.27587196e-152],\n",
       "       [1.13224202e+277, 1.33360307e+241, 1.87160029e-311,\n",
       "        1.70182262e-123, 1.00678753e-312, 6.52094399e-308],\n",
       "       [3.32653140e-111, 3.33481217e+079, 6.88488166e-313,\n",
       "        4.85213860e-308, 2.27610565e-159, 2.64171898e-313],\n",
       "       [1.27631071e-303, 5.12965257e+064, 5.58599989e+093,\n",
       "        9.08367206e+223, 1.13224202e+277, 1.43485896e+161]])"
      ]
     },
     "execution_count": 18,
     "metadata": {},
     "output_type": "execute_result"
    }
   ],
   "source": [
    "np.empty((4,6))"
   ]
  },
  {
   "cell_type": "markdown",
   "metadata": {},
   "source": [
    "<ul>\n",
    "    <li><b>empty</b>, unlike <b>zeros</b>, does not set the array values to zero, and may therefore be marginally faster. <br></li>\n",
    "    <li><b>empty</b> has nothing to do with creating an array that is \"empty\" in the sense of having no elements. It just means the array doesn't have its values initialized (i.e., they are unpredictable and depend on whatever happens to be in the memory allocated for the array).</li>\n",
    "</ul>"
   ]
  },
  {
   "cell_type": "code",
   "execution_count": 19,
   "metadata": {},
   "outputs": [
    {
     "data": {
      "text/plain": [
       "array([[4, 4, 4, 4],\n",
       "       [4, 4, 4, 4],\n",
       "       [4, 4, 4, 4]])"
      ]
     },
     "execution_count": 19,
     "metadata": {},
     "output_type": "execute_result"
    }
   ],
   "source": [
    "np.full((3,4), 4)"
   ]
  },
  {
   "cell_type": "code",
   "execution_count": 20,
   "metadata": {},
   "outputs": [
    {
     "data": {
      "text/plain": [
       "array([[1, 1, 1],\n",
       "       [1, 1, 1]])"
      ]
     },
     "execution_count": 20,
     "metadata": {},
     "output_type": "execute_result"
    }
   ],
   "source": [
    "np.ones_like(nested_arr)"
   ]
  },
  {
   "cell_type": "code",
   "execution_count": 21,
   "metadata": {},
   "outputs": [
    {
     "data": {
      "text/plain": [
       "array([0, 1, 2, 3, 4, 5, 6, 7, 8, 9])"
      ]
     },
     "execution_count": 21,
     "metadata": {},
     "output_type": "execute_result"
    }
   ],
   "source": [
    "np.arange(10)"
   ]
  },
  {
   "cell_type": "code",
   "execution_count": 22,
   "metadata": {},
   "outputs": [
    {
     "data": {
      "text/plain": [
       "array([1. , 1.5, 2. , 2.5, 3. , 3.5, 4. , 4.5, 5. , 5.5, 6. , 6.5, 7. ,\n",
       "       7.5, 8. , 8.5, 9. , 9.5])"
      ]
     },
     "execution_count": 22,
     "metadata": {},
     "output_type": "execute_result"
    }
   ],
   "source": [
    "np.arange(1,10,.5)"
   ]
  },
  {
   "cell_type": "markdown",
   "metadata": {},
   "source": [
    "<h3>Data Types for ndarrays:</h3>\n",
    "<ul>\n",
    "    <li> The data type or <b>dtype</b> is a special object containing the information the ndarray needs to interpret a chunk of memory as a particular\n",
    "type of data. </li>\n",
    "</ul>"
   ]
  },
  {
   "cell_type": "code",
   "execution_count": 23,
   "metadata": {},
   "outputs": [],
   "source": [
    "arr1 = np.array([1, 2, 3, 4], dtype=np.float32)"
   ]
  },
  {
   "cell_type": "code",
   "execution_count": 24,
   "metadata": {},
   "outputs": [
    {
     "data": {
      "text/plain": [
       "array([1., 2., 3., 4.], dtype=float32)"
      ]
     },
     "execution_count": 24,
     "metadata": {},
     "output_type": "execute_result"
    }
   ],
   "source": [
    "arr1"
   ]
  },
  {
   "cell_type": "code",
   "execution_count": 25,
   "metadata": {},
   "outputs": [],
   "source": [
    "arr2 = np.array([1.2, 3, -0.3], dtype=np.int32)"
   ]
  },
  {
   "cell_type": "code",
   "execution_count": 26,
   "metadata": {},
   "outputs": [
    {
     "data": {
      "text/plain": [
       "array([1, 3, 0], dtype=int32)"
      ]
     },
     "execution_count": 26,
     "metadata": {},
     "output_type": "execute_result"
    }
   ],
   "source": [
    "arr2"
   ]
  },
  {
   "cell_type": "markdown",
   "metadata": {},
   "source": [
    "<h6> Casting floating-pint to intger: the decimal part will be truncated: </h6>"
   ]
  },
  {
   "cell_type": "markdown",
   "metadata": {},
   "source": [
    "<h3> Numpy data types </h3>\n",
    "<ul>\n",
    "    <li> <b> int8, uint8 </b> : Signed and unsigned 8-bit (1 byte) integer types </li>\n",
    "    <li> <b> int16, uint16 </b> : Signed and unsigned 16-bit integer types </li>\n",
    "    <li> <b> int32, uint32 </b> : Signed and unsigned 32-bit integer types </li>\n",
    "    <li> <b> int64, uint64 </b> : Signed and unsigned 64-bit integer types </li>\n",
    "    <li> <b> float16 </b> : Half-precision floating point </li>\n",
    "    <li> <b> float32 </b> : Standard single-precision floating point; compatible with C float </li>\n",
    "    <li> <b> float64 </b> : Standard double-precision floating point; compatible with C double and\n",
    "    Python float object </li>\n",
    "    <li> <b> float128 </b> : Extended-precision floating point </li>\n",
    "    <li> <b> complex64, complex128 </b> : Complex numbers represented by two 32, 64, or 128 floats, respectively </li>\n",
    "    <li> <b> bool </b> : Boolean type storing True and False values </li>\n",
    "    <li> <b> object </b> : Python object type; a value can be any Python object </li>\n",
    "    <li> <b> string_ </b> : Fixed-length ASCII string type (1 byte per character); for example, to create a\n",
    "    string dtype with length 10, use 'S10' </li>\n",
    "    <li> <b> unicode_ </b> : Fixed-length Unicode type (number of bytes platform specific); same\n",
    "specification semantics as string_ (e.g., 'U10' ) </li>\n",
    "</ul><br><br>\n",
    "<h5> Convert array's dtype : <b>astype</b> method </h5>\n",
    "\n"
   ]
  },
  {
   "cell_type": "code",
   "execution_count": 27,
   "metadata": {},
   "outputs": [],
   "source": [
    "arr = np.array([1, 2, 3, 4, 5], dtype=np.int64)"
   ]
  },
  {
   "cell_type": "code",
   "execution_count": 28,
   "metadata": {},
   "outputs": [],
   "source": [
    "float_arr = arr.astype(np.float32)"
   ]
  },
  {
   "cell_type": "code",
   "execution_count": 29,
   "metadata": {},
   "outputs": [
    {
     "data": {
      "text/plain": [
       "dtype('float32')"
      ]
     },
     "execution_count": 29,
     "metadata": {},
     "output_type": "execute_result"
    }
   ],
   "source": [
    "float_arr.dtype"
   ]
  },
  {
   "cell_type": "markdown",
   "metadata": {},
   "source": [
    "<h6> Casting floating-pint to intger: the decimal part will be truncated: </h6>"
   ]
  },
  {
   "cell_type": "code",
   "execution_count": 30,
   "metadata": {},
   "outputs": [],
   "source": [
    "string_arr = np.array(['ab', '1' , 'fj'], dtype=np.string_)"
   ]
  },
  {
   "cell_type": "code",
   "execution_count": 31,
   "metadata": {},
   "outputs": [
    {
     "data": {
      "text/plain": [
       "dtype('S2')"
      ]
     },
     "execution_count": 31,
     "metadata": {},
     "output_type": "execute_result"
    }
   ],
   "source": [
    "string_arr.dtype"
   ]
  },
  {
   "cell_type": "code",
   "execution_count": 32,
   "metadata": {},
   "outputs": [
    {
     "ename": "ValueError",
     "evalue": "invalid literal for int() with base 10: 'ab'",
     "output_type": "error",
     "traceback": [
      "\u001b[0;31m---------------------------------------------------------------------------\u001b[0m",
      "\u001b[0;31mValueError\u001b[0m                                Traceback (most recent call last)",
      "\u001b[0;32m<ipython-input-32-46fb7e70dc9f>\u001b[0m in \u001b[0;36m<module>\u001b[0;34m\u001b[0m\n\u001b[0;32m----> 1\u001b[0;31m \u001b[0mstring_arr\u001b[0m\u001b[0;34m.\u001b[0m\u001b[0mastype\u001b[0m\u001b[0;34m(\u001b[0m\u001b[0mnp\u001b[0m\u001b[0;34m.\u001b[0m\u001b[0mint64\u001b[0m\u001b[0;34m)\u001b[0m\u001b[0;34m\u001b[0m\u001b[0;34m\u001b[0m\u001b[0m\n\u001b[0m",
      "\u001b[0;31mValueError\u001b[0m: invalid literal for int() with base 10: 'ab'"
     ]
    }
   ],
   "source": [
    "string_arr.astype(np.int64)"
   ]
  },
  {
   "cell_type": "markdown",
   "metadata": {},
   "source": [
    "<h3> Arithmetic with NumPy Arrays </h3>\n",
    "<ul>\n",
    "<li>Arrays are important because they enable you to express batch operations on data\n",
    "without writing any for loops. NumPy users call this vectorization. Any arithmetic\n",
    "operations between equal-size arrays applies the operation element-wise: </li>\n",
    "</ul>"
   ]
  },
  {
   "cell_type": "code",
   "execution_count": null,
   "metadata": {},
   "outputs": [],
   "source": [
    "arr = np.array([[1, 2 , 3], [4, 5, 6]], dtype=np.float64)"
   ]
  },
  {
   "cell_type": "code",
   "execution_count": null,
   "metadata": {},
   "outputs": [],
   "source": [
    "arr * arr"
   ]
  },
  {
   "cell_type": "code",
   "execution_count": null,
   "metadata": {},
   "outputs": [],
   "source": [
    "arr - arr"
   ]
  },
  {
   "cell_type": "markdown",
   "metadata": {},
   "source": [
    "<p>Arithmetic operations with scalars propagate the scalar argument to each element in\n",
    "the array:</p>"
   ]
  },
  {
   "cell_type": "code",
   "execution_count": null,
   "metadata": {},
   "outputs": [],
   "source": [
    "1/arr"
   ]
  },
  {
   "cell_type": "code",
   "execution_count": null,
   "metadata": {},
   "outputs": [],
   "source": [
    "arr ** 5"
   ]
  },
  {
   "cell_type": "markdown",
   "metadata": {},
   "source": [
    "<p>Comparisons between arrays of the same size yield boolean arrays:</p>"
   ]
  },
  {
   "cell_type": "code",
   "execution_count": null,
   "metadata": {},
   "outputs": [],
   "source": [
    "arr2 = np.array([[0, 5, 1], \n",
    "                 [6, 5 , 10]], dtype=np.float64)"
   ]
  },
  {
   "cell_type": "code",
   "execution_count": null,
   "metadata": {},
   "outputs": [],
   "source": [
    "arr2 > arr"
   ]
  },
  {
   "cell_type": "code",
   "execution_count": null,
   "metadata": {},
   "outputs": [],
   "source": [
    "arr2 == arr"
   ]
  },
  {
   "cell_type": "markdown",
   "metadata": {},
   "source": [
    "<h3>Broadcasting </h3>"
   ]
  },
  {
   "cell_type": "markdown",
   "metadata": {},
   "source": [
    "<ul>\n",
    "    <li> Operations between differently sized arrays is called <b>broadcasting</b> </li>\n",
    "    <li> Broadcasting is the process of making arrays with different shapes have compatible shapes for arithmetic operations. </li>\n",
    "</ul>"
   ]
  },
  {
   "cell_type": "markdown",
   "metadata": {},
   "source": [
    "<p> Here we say that the scalar value 4 has been broadcast to all of the other elements in\n",
    "the multiplication operation. : </p>"
   ]
  },
  {
   "cell_type": "code",
   "execution_count": null,
   "metadata": {},
   "outputs": [],
   "source": [
    "arr * 4"
   ]
  },
  {
   "cell_type": "code",
   "execution_count": null,
   "metadata": {},
   "outputs": [],
   "source": [
    "arr + 4"
   ]
  },
  {
   "cell_type": "markdown",
   "metadata": {},
   "source": [
    "<h3> Indexing and Slicing</h3>\n",
    "<ul>\n",
    "    <li> <b>arr[start:stop:step]</b> for 1d arrays </li>\n",
    "    <li> <b>arr[start:stop:step, start:stop:step, ....]</b> for more than  1d arrays </li> \n",
    "<ul>"
   ]
  },
  {
   "cell_type": "code",
   "execution_count": null,
   "metadata": {},
   "outputs": [],
   "source": [
    "arr = np.arange(20)"
   ]
  },
  {
   "cell_type": "code",
   "execution_count": null,
   "metadata": {},
   "outputs": [],
   "source": [
    "arr"
   ]
  },
  {
   "cell_type": "code",
   "execution_count": null,
   "metadata": {},
   "outputs": [],
   "source": [
    "arr[4]"
   ]
  },
  {
   "cell_type": "code",
   "execution_count": null,
   "metadata": {},
   "outputs": [],
   "source": [
    "arr[4:7]"
   ]
  },
  {
   "cell_type": "code",
   "execution_count": null,
   "metadata": {},
   "outputs": [],
   "source": [
    "arr[:6]"
   ]
  },
  {
   "cell_type": "code",
   "execution_count": null,
   "metadata": {},
   "outputs": [],
   "source": [
    "arr[2:10:2]"
   ]
  },
  {
   "cell_type": "markdown",
   "metadata": {},
   "source": [
    "<p><b>Tip: </b> In numpy arrays and python's list [a:b] slicing from N index means [a,b) in math. or [a, b-1]"
   ]
  },
  {
   "cell_type": "code",
   "execution_count": null,
   "metadata": {},
   "outputs": [],
   "source": [
    "arr[3:5] = 256\n",
    "# arr.__setitem__(slice(3,5), 256)"
   ]
  },
  {
   "cell_type": "code",
   "execution_count": null,
   "metadata": {},
   "outputs": [],
   "source": [
    "arr"
   ]
  },
  {
   "cell_type": "markdown",
   "metadata": {},
   "source": [
    "<h4>Advanced Tip :</h4>\n",
    "<ul>\n",
    "    <li> <b>arr[start:stop:step]</b> means: <b>arr[slice(start, stop, step)]</b> </li>\n",
    "    <li> <b> arr[index] </b> means: <b>arr.__getitem__(index)</b>\n",
    "    <li> <b>arr[index] = value </b> means: <b>arr.__setitem__(index, value)</b> </li>\n",
    "</ul>\n",
    "<p> numpy use above facilities to enhance user experience </p><br>"
   ]
  },
  {
   "cell_type": "code",
   "execution_count": null,
   "metadata": {},
   "outputs": [],
   "source": [
    "arr_slice = arr[1:4]"
   ]
  },
  {
   "cell_type": "code",
   "execution_count": null,
   "metadata": {},
   "outputs": [],
   "source": [
    "arr_slice"
   ]
  },
  {
   "cell_type": "code",
   "execution_count": null,
   "metadata": {},
   "outputs": [],
   "source": [
    "arr_slice[0]=9999"
   ]
  },
  {
   "cell_type": "code",
   "execution_count": null,
   "metadata": {},
   "outputs": [],
   "source": [
    "arr"
   ]
  },
  {
   "cell_type": "markdown",
   "metadata": {},
   "source": [
    "<p> change values in arr_slice , the mutations are reflected in the original array arr </p><br>"
   ]
  },
  {
   "cell_type": "markdown",
   "metadata": {},
   "source": [
    "<h4> Slicing in higher dimension arrays: </h4><br>"
   ]
  },
  {
   "cell_type": "code",
   "execution_count": null,
   "metadata": {},
   "outputs": [],
   "source": [
    "arr2d = np.array([[1, 2, 3], [4, 5, 6], [7, 8, 9]])"
   ]
  },
  {
   "cell_type": "code",
   "execution_count": null,
   "metadata": {},
   "outputs": [],
   "source": [
    "arr2d"
   ]
  },
  {
   "cell_type": "code",
   "execution_count": null,
   "metadata": {},
   "outputs": [],
   "source": [
    "arr2d[1]"
   ]
  },
  {
   "cell_type": "code",
   "execution_count": null,
   "metadata": {},
   "outputs": [],
   "source": [
    "arr2d[2][0]"
   ]
  },
  {
   "cell_type": "code",
   "execution_count": null,
   "metadata": {},
   "outputs": [],
   "source": [
    "arr2d[2, 1]"
   ]
  },
  {
   "cell_type": "markdown",
   "metadata": {},
   "source": [
    "<h4>Indexing elements in a NumPy array</h4><br>\n",
    "<img src=\"https://raw.githubusercontent.com/h8hawk/Datacamp-Scientific-Python/master/files/numpy_2darray.jpg\"/>"
   ]
  },
  {
   "cell_type": "code",
   "execution_count": null,
   "metadata": {},
   "outputs": [],
   "source": [
    "arr2d[:2, 1:] # Rows: start until 2  , columns: 1 until end"
   ]
  },
  {
   "cell_type": "code",
   "execution_count": null,
   "metadata": {},
   "outputs": [],
   "source": [
    "arr2d[:2, 2] "
   ]
  },
  {
   "cell_type": "code",
   "execution_count": null,
   "metadata": {},
   "outputs": [],
   "source": [
    "arr2d[:, :1]"
   ]
  },
  {
   "cell_type": "code",
   "execution_count": null,
   "metadata": {},
   "outputs": [],
   "source": [
    "arr2d[:, 1]"
   ]
  },
  {
   "cell_type": "markdown",
   "metadata": {},
   "source": [
    "<h4> Boolean Indexing </h4>\n",
    "<p> This boolean array can be passed when indexing the array. </p><br>"
   ]
  },
  {
   "cell_type": "code",
   "execution_count": null,
   "metadata": {},
   "outputs": [],
   "source": [
    "data = np.random.randn(4, 4)"
   ]
  },
  {
   "cell_type": "code",
   "execution_count": null,
   "metadata": {},
   "outputs": [],
   "source": [
    "boolean_index = (data < -.5) | (data > .5)"
   ]
  },
  {
   "cell_type": "code",
   "execution_count": null,
   "metadata": {},
   "outputs": [],
   "source": [
    "boolean_index"
   ]
  },
  {
   "cell_type": "code",
   "execution_count": null,
   "metadata": {},
   "outputs": [],
   "source": [
    "data[boolean_index]"
   ]
  },
  {
   "cell_type": "markdown",
   "metadata": {},
   "source": [
    "<h4> Fancy Indexing :</h4><br>"
   ]
  },
  {
   "cell_type": "code",
   "execution_count": null,
   "metadata": {},
   "outputs": [],
   "source": [
    "arr = np.random.randn(8, 4)"
   ]
  },
  {
   "cell_type": "code",
   "execution_count": null,
   "metadata": {},
   "outputs": [],
   "source": [
    "arr"
   ]
  },
  {
   "cell_type": "code",
   "execution_count": null,
   "metadata": {},
   "outputs": [],
   "source": [
    "arr[[4, 3, 0, 6]]"
   ]
  },
  {
   "cell_type": "code",
   "execution_count": null,
   "metadata": {},
   "outputs": [],
   "source": [
    "arr[[1, 6], [3, 1]]"
   ]
  },
  {
   "cell_type": "markdown",
   "metadata": {},
   "source": [
    "<h3> Reshaping and Transposing Arrays and Swapping Axes </h3><br>"
   ]
  },
  {
   "cell_type": "code",
   "execution_count": null,
   "metadata": {},
   "outputs": [],
   "source": [
    "arr = np.arange(15)"
   ]
  },
  {
   "cell_type": "code",
   "execution_count": null,
   "metadata": {},
   "outputs": [],
   "source": [
    "arr"
   ]
  },
  {
   "cell_type": "code",
   "execution_count": null,
   "metadata": {},
   "outputs": [],
   "source": [
    "arr.reshape((3,5))"
   ]
  },
  {
   "cell_type": "code",
   "execution_count": null,
   "metadata": {},
   "outputs": [],
   "source": [
    "arr.reshape((4,8))"
   ]
  },
  {
   "cell_type": "code",
   "execution_count": null,
   "metadata": {},
   "outputs": [],
   "source": [
    "arr = arr.reshape((5,3))"
   ]
  },
  {
   "cell_type": "code",
   "execution_count": null,
   "metadata": {},
   "outputs": [],
   "source": [
    "arr"
   ]
  },
  {
   "cell_type": "code",
   "execution_count": null,
   "metadata": {},
   "outputs": [],
   "source": [
    "arr.T"
   ]
  },
  {
   "cell_type": "markdown",
   "metadata": {},
   "source": [
    "<h3> Universal Functions: Fast Element-Wise Array Functions </h3>\n",
    "<ul>\n",
    "    <li>A universal function, or <b>ufunc</b>, is a function that performs element-wise operations\n",
    "        on data in ndarrays.</li>\n",
    "</ul><br>"
   ]
  },
  {
   "cell_type": "code",
   "execution_count": null,
   "metadata": {},
   "outputs": [],
   "source": [
    "arr = np.arange(10)"
   ]
  },
  {
   "cell_type": "code",
   "execution_count": null,
   "metadata": {},
   "outputs": [],
   "source": [
    "arr"
   ]
  },
  {
   "cell_type": "code",
   "execution_count": null,
   "metadata": {},
   "outputs": [],
   "source": [
    "np.sqrt(arr)"
   ]
  },
  {
   "cell_type": "code",
   "execution_count": null,
   "metadata": {},
   "outputs": [],
   "source": [
    "np.exp(arr)"
   ]
  },
  {
   "cell_type": "code",
   "execution_count": null,
   "metadata": {},
   "outputs": [],
   "source": [
    "np.max(arr)"
   ]
  },
  {
   "cell_type": "code",
   "execution_count": null,
   "metadata": {},
   "outputs": [],
   "source": [
    "np.min(arr)"
   ]
  },
  {
   "cell_type": "code",
   "execution_count": null,
   "metadata": {},
   "outputs": [],
   "source": [
    "np.mean(arr)"
   ]
  },
  {
   "cell_type": "code",
   "execution_count": null,
   "metadata": {},
   "outputs": [],
   "source": [
    "np.absolute(arr)"
   ]
  },
  {
   "cell_type": "markdown",
   "metadata": {},
   "source": [
    "<p> These are referred to as unary ufuncs. Others, such as add or maximum , take two arrays\n",
    "(thus, binary ufuncs) and return a single array as the result: </p>"
   ]
  },
  {
   "cell_type": "code",
   "execution_count": null,
   "metadata": {},
   "outputs": [],
   "source": [
    "x = np.random.randn(6)"
   ]
  },
  {
   "cell_type": "code",
   "execution_count": null,
   "metadata": {},
   "outputs": [],
   "source": [
    "y = np.random.randn(6)"
   ]
  },
  {
   "cell_type": "code",
   "execution_count": null,
   "metadata": {},
   "outputs": [],
   "source": [
    "x, y"
   ]
  },
  {
   "cell_type": "code",
   "execution_count": null,
   "metadata": {},
   "outputs": [],
   "source": [
    "np.maximum(x, y)"
   ]
  },
  {
   "cell_type": "markdown",
   "metadata": {},
   "source": [
    "<h3> Unary universal functions:</h3>\n",
    "<ul>\n",
    "    <li><b>abs, fabs</b> : Compute the absolute value element-wise for integer, floating-point, or complex values</li>\n",
    "    <li><b>sqrt</b> : Compute the square root of each element (equivalent to arr ** 0.5 )</li>\n",
    "    <li><b>square</b> : Compute the square of each element (equivalent to arr ** 2 )</li>\n",
    "    <li><b>exp</b> : Compute the exponent e x of each element</li>\n",
    "        <li><b>log, log10, log2, log1p</b> : Natural logarithm (base e), log base 10, log base 2, and log(1 + x),  respectively</li>\n",
    "    <li><b>sign</b> : Compute the sign of each element: 1 (positive), 0 (zero), or –1 (negative)</li>\n",
    "    <li><b>ceil</b> : Compute the ceiling of each element (i.e., the smallest integer greater than or equal to that\n",
    "number) </li>\n",
    "    <li><b>floor</b> : Compute the floor of each element (i.e., the largest integer less than or equal to each element) </li>\n",
    "    <li><b>rint</b> : Round elements to the nearest integer, preserving the dtype </li>\n",
    "    <li><b>modf</b> : Return fractional and integral parts of array as a separate array</li>\n",
    "    <li><b>isnan</b> : Return boolean array indicating whether each value is NaN (Not a Number) </li>\n",
    "    <li><b>isfinite, isinf </b> : Return boolean array indicating whether each element is finite (non- inf , non- NaN ) or infinite,\n",
    "respectively </li>\n",
    "    <li><b>cos, cosh, sin, sinh, tan, tanh</b> : Regular and hyperbolic trigonometric functions</li>\n",
    "    <li><b>arccos, arccosh, arcsin, arcsinh, arctan, arctanh</b> : Inverse trigonometric functions </li>\n",
    "    <li><b>logical_not</b> : Compute truth value of not x element-wise (equivalent to ~arr ). </li>\n",
    "</ul>\n",
    "\n",
    "    "
   ]
  },
  {
   "cell_type": "markdown",
   "metadata": {},
   "source": [
    "<h3> Binary universal functions: </h3>\n",
    "<ul>\n",
    "    <li><b>add</b> : Add corresponding elements in arrays</li>\n",
    "    <li><b>subtract</b> : Subtract elements in second array from first array</li>\n",
    "    <li><b>multiply</b> : Multiply array elements</li>\n",
    "    <li><b>divide, floor_divide</b> : Divide or floor divide (truncating the remainder)</li>\n",
    "    <li><b>power</b> : Raise elements in first array to powers indicated in second array</li>\n",
    "    <li><b>maximum, fmax</b> : Element-wise maximum; fmax ignores NaN</li>\n",
    "    <li><b>minimum, fmin</b> : Element-wise minimum; fmin ignores NaN</li>\n",
    "    <li><b>mod</b> : Element-wise modulus (remainder of division)</li>\n",
    "    <li><b>copysign</b> : Copy sign of values in second argument to values in first argument</li>\n",
    "    <li><b>greater, greater_equal, less, less_equal, equal, not_equal</b> : Perform element-wise comparison, yielding boolean array (equivalent to infix\n",
    "operators >, >=, <, <=, ==, !=)</li>\n",
    "    <li><b>logical_and, logical_or, logical_xor</b> : Compute element-wise truth value of logical operation (equivalent to infix operators\n",
    "& |, ^ )</li>\n",
    "\n",
    "</ul>"
   ]
  },
  {
   "cell_type": "markdown",
   "metadata": {},
   "source": [
    "<h3> Array Oriented Programming </h3>\n",
    "<ul>\n",
    "    <li>express many kinds of data processing tasks as concise array expressions</li>\n",
    "    <li>replacing explicit loops with array expressions is commonly referred to as <b>vectorization</b></li>\n",
    "</ul>\n",
    "<br>"
   ]
  },
  {
   "cell_type": "code",
   "execution_count": 49,
   "metadata": {},
   "outputs": [],
   "source": [
    "X = np.random.randn(1000000)"
   ]
  },
  {
   "cell_type": "code",
   "execution_count": 50,
   "metadata": {},
   "outputs": [],
   "source": [
    "Y = np.random.randn(1000000)"
   ]
  },
  {
   "cell_type": "markdown",
   "metadata": {},
   "source": [
    "euclodian distance $\n",
    " = \\begin{align} \\sqrt{(X_1-Y_1)^2+(X_2-Y_2)^2+ .... +(X_n-Y_n)^2}     \n",
    "\\end{align}\n",
    "$"
   ]
  },
  {
   "cell_type": "code",
   "execution_count": 51,
   "metadata": {},
   "outputs": [
    {
     "name": "stdout",
     "output_type": "stream",
     "text": [
      "CPU times: user 828 µs, sys: 6.91 ms, total: 7.74 ms\n",
      "Wall time: 6.52 ms\n"
     ]
    }
   ],
   "source": [
    "%time euc_distance = np.sqrt(np.sum((X-Y)**2))"
   ]
  },
  {
   "cell_type": "code",
   "execution_count": 52,
   "metadata": {},
   "outputs": [
    {
     "name": "stdout",
     "output_type": "stream",
     "text": [
      "CPU times: user 6.7 ms, sys: 5.01 ms, total: 11.7 ms\n",
      "Wall time: 6.17 ms\n"
     ]
    }
   ],
   "source": [
    "%time d = np.linalg.norm(X-Y)"
   ]
  },
  {
   "cell_type": "markdown",
   "metadata": {},
   "source": [
    "Manhattan distance $\n",
    " = \\begin{align}  |X_1-Y_1| + |X_2-Y_2|+ .... +|X_n-Y_n|\n",
    "\\end{align}\n",
    "$"
   ]
  },
  {
   "cell_type": "code",
   "execution_count": 53,
   "metadata": {},
   "outputs": [],
   "source": [
    "manhatan_distance = np.sum(np.abs(X-Y))"
   ]
  },
  {
   "cell_type": "markdown",
   "metadata": {},
   "source": [
    "<h3> Expressing Conditional Logic as Array Operations </h3>\n",
    "<ul>\n",
    "    <li> <b>np.where(condition, X, Y)</b> : vectorized version of the ternary expression x if condition else y </li>\n",
    "    <li> <b>np.where(condition)</b>: return list of indexes that condition are true in.\n",
    "</ul>"
   ]
  },
  {
   "cell_type": "code",
   "execution_count": 65,
   "metadata": {},
   "outputs": [],
   "source": [
    "arr = np.random.randn(4, 4)"
   ]
  },
  {
   "cell_type": "code",
   "execution_count": 66,
   "metadata": {},
   "outputs": [
    {
     "data": {
      "text/plain": [
       "(array([0, 0, 0, 1, 2, 2, 3, 3, 3]), array([0, 1, 2, 1, 0, 2, 0, 2, 3]))"
      ]
     },
     "execution_count": 66,
     "metadata": {},
     "output_type": "execute_result"
    }
   ],
   "source": [
    "np.where(arr > 0)"
   ]
  },
  {
   "cell_type": "code",
   "execution_count": 67,
   "metadata": {},
   "outputs": [
    {
     "data": {
      "text/plain": [
       "array([[ 2,  2,  2, -2],\n",
       "       [-2,  2, -2, -2],\n",
       "       [ 2, -2,  2, -2],\n",
       "       [ 2, -2,  2,  2]])"
      ]
     },
     "execution_count": 67,
     "metadata": {},
     "output_type": "execute_result"
    }
   ],
   "source": [
    "np.where(arr>0 , 2 , -2)"
   ]
  },
  {
   "cell_type": "markdown",
   "metadata": {},
   "source": [
    "<h3> Mathematical and Statistical Methods </h3>\n",
    "<ul>\n",
    "    <li> <b>sum</b> : Sum of all the elements in the array or along an axis; zero-length arrays have sum 0</li>\n",
    "    <li> <b>mean</b> : Arithmetic mean; zero-length arrays have NaN mean</li>\n",
    "    <li> <b>std, var</b> : Standard deviation and variance </li>\n",
    "    <li> <b>argmin, argmax</b> : Indices of minimum and maximum elements, respectively</li>\n",
    "    <li> <b>cumsum</b> : Cumulative sum of elements starting from 0</li>\n",
    "    <li> <b>cumprod</b> : Cumulative product of elements starting from 1</li>\n",
    "<ul><br/>"
   ]
  },
  {
   "cell_type": "code",
   "execution_count": 68,
   "metadata": {},
   "outputs": [],
   "source": [
    "arr = np.random.randn(5, 4)"
   ]
  },
  {
   "cell_type": "code",
   "execution_count": 69,
   "metadata": {},
   "outputs": [
    {
     "data": {
      "text/plain": [
       "0.22587984819025655"
      ]
     },
     "execution_count": 69,
     "metadata": {},
     "output_type": "execute_result"
    }
   ],
   "source": [
    "arr.mean()"
   ]
  },
  {
   "cell_type": "code",
   "execution_count": 70,
   "metadata": {},
   "outputs": [
    {
     "data": {
      "text/plain": [
       "4.517596963805131"
      ]
     },
     "execution_count": 70,
     "metadata": {},
     "output_type": "execute_result"
    }
   ],
   "source": [
    "arr.sum()"
   ]
  },
  {
   "cell_type": "code",
   "execution_count": 74,
   "metadata": {},
   "outputs": [
    {
     "data": {
      "text/plain": [
       "array([ 0.43569009,  0.69224516,  0.03797257, -0.26238843])"
      ]
     },
     "execution_count": 74,
     "metadata": {},
     "output_type": "execute_result"
    }
   ],
   "source": [
    "arr.mean(axis=0)"
   ]
  },
  {
   "cell_type": "markdown",
   "metadata": {},
   "source": [
    "<h3>Unique and Other Set Logic</h3><br>\n",
    "<ul>\n",
    "    <li><b>unique(x)</b> : Compute the sorted, unique elements in x</li>\n",
    "    <li><b>intersect1d(x, y)</b> : Compute the sorted, common elements in x and y</li>\n",
    "    <li><b>union1d(x, y)</b> : Compute the sorted union of elements</li>\n",
    "    <li><b>in1d(x, y)</b> : Compute a boolean array indicating whether each element of x is contained in y</li>\n",
    "    <li><b>setdiff1d(x, y)</b> : Set difference, elements in x that are not in y</li>\n",
    "    <li><b>setxor1d(x, y)</b> : Set symmetric differences; elements that are in either of the arrays, but not both </li>\n",
    "</ul><br>"
   ]
  },
  {
   "cell_type": "code",
   "execution_count": 79,
   "metadata": {},
   "outputs": [],
   "source": [
    "ints = np.array([3, 3, 3, 2, 2, 1, 1, 4, 4])"
   ]
  },
  {
   "cell_type": "code",
   "execution_count": 81,
   "metadata": {},
   "outputs": [
    {
     "data": {
      "text/plain": [
       "(array([1, 2, 3, 4]), array([5, 3, 0, 7]), array([2, 2, 3, 2]))"
      ]
     },
     "execution_count": 81,
     "metadata": {},
     "output_type": "execute_result"
    }
   ],
   "source": [
    "np.unique(ints, return_index=True, return_counts=True)"
   ]
  },
  {
   "cell_type": "markdown",
   "metadata": {},
   "source": [
    "<h3> Linear Algebra </h3>\n",
    "<ul>\n",
    "    <li> Multiplication, decompositions, determinants, and other square matrix math</li>\n",
    "    <li> <b>numpy.dot</b> If both a and b are 2-D arrays, it is matrix multiplication, but using <b>np.matmul</b> or a @ b is preferred. </li>\n",
    "<ul>"
   ]
  },
  {
   "cell_type": "markdown",
   "metadata": {},
   "source": [
    "<h3> np.dot </h3>\n",
    "<ul>\n",
    "    <li>If both a and b are 1-D arrays, it is inner product of vectors (without complex conjugation)</li>\n",
    "    <li>If both a and b are 2-D arrays, it is matrix multiplication, but using matmul or a @ b is preferred.</li>\n",
    "    <li>If either a or b is 0-D (scalar), it is equivalent to multiply and using numpy.multiply(a, b) or a * b is preferred.</li>\n",
    "    <li>If a is an N-D array and b is a 1-D array, it is a sum product over the last axis of a and b.</li>\n",
    "    <li>If a is an N-D array and b is an M-D array (where M>=2), it is a sum product over the last axis of a and the second-to-last axis of b : <br>dot(a, b)[i,j,k,m] = sum(a[i,j,:] * b[k,:,m])</li>\n",
    "</ul>"
   ]
  },
  {
   "cell_type": "code",
   "execution_count": 82,
   "metadata": {},
   "outputs": [],
   "source": [
    "x = np.array([[1., 2., 3.], [4., 5., 6.]])"
   ]
  },
  {
   "cell_type": "code",
   "execution_count": 83,
   "metadata": {},
   "outputs": [],
   "source": [
    "y = np.array([[6., 23.], [-1, 7], [8, 9]])"
   ]
  },
  {
   "cell_type": "code",
   "execution_count": 84,
   "metadata": {},
   "outputs": [
    {
     "data": {
      "text/plain": [
       "array([[ 28.,  64.],\n",
       "       [ 67., 181.]])"
      ]
     },
     "execution_count": 84,
     "metadata": {},
     "output_type": "execute_result"
    }
   ],
   "source": [
    "x.dot(y)"
   ]
  },
  {
   "cell_type": "code",
   "execution_count": 86,
   "metadata": {},
   "outputs": [
    {
     "data": {
      "text/plain": [
       "array([[ 28.,  64.],\n",
       "       [ 67., 181.]])"
      ]
     },
     "execution_count": 86,
     "metadata": {},
     "output_type": "execute_result"
    }
   ],
   "source": [
    "np.dot(x, y)"
   ]
  },
  {
   "cell_type": "code",
   "execution_count": 87,
   "metadata": {},
   "outputs": [
    {
     "data": {
      "text/plain": [
       "array([[ 28.,  64.],\n",
       "       [ 67., 181.]])"
      ]
     },
     "execution_count": 87,
     "metadata": {},
     "output_type": "execute_result"
    }
   ],
   "source": [
    "x @ y"
   ]
  },
  {
   "cell_type": "markdown",
   "metadata": {},
   "source": [
    "<h3> numpy.linalg </h3>\n",
    "<ul>\n",
    "    <li> numpy.linalg has a standard set of matrix decompositions and things like inverse and determinant. under the hood use libraies like BLAS, LAPACK, </li>\n",
    "    <li>under the hood use libraies like BLAS, LAPACK </li>\n",
    "</ul><br>\n",
    "<h3>Commonly used numpy.linalg functions </h3>\n",
    "<ul>\n",
    "    <li><b>diag</b> :Return the diagonal (or off-diagonal) elements of a square matrix as a 1D array, or convert a 1D array into a square matrix with zeros on the off-diagonal </li>\n",
    "    <li><b>dot</b> : Matrix multiplication</li>\n",
    "    <li><b>trace</b> : Compute the sum of the diagonal elements</li>\n",
    "    <li><b>det</b> : Compute the matrix determinant</li>\n",
    "    <li><b>eig</b> : Compute the eigenvalues and eigenvectors of a square matrix</li>\n",
    "    <li><b>inv</b> : Compute the inverse of a square matrix</li>\n",
    "    <li> <a href=\"https://docs.scipy.org/doc/numpy/reference/routines.linalg.html\"><b>More</b></a> </li>\n",
    "</ul><br>"
   ]
  },
  {
   "cell_type": "markdown",
   "metadata": {},
   "source": [
    "<h3>Pseudorandom Number Generation</h3>"
   ]
  },
  {
   "cell_type": "code",
   "execution_count": null,
   "metadata": {},
   "outputs": [],
   "source": []
  }
 ],
 "metadata": {
  "kernelspec": {
   "display_name": "Python 3",
   "language": "python",
   "name": "python3"
  },
  "language_info": {
   "codemirror_mode": {
    "name": "ipython",
    "version": 3
   },
   "file_extension": ".py",
   "mimetype": "text/x-python",
   "name": "python",
   "nbconvert_exporter": "python",
   "pygments_lexer": "ipython3",
   "version": "3.7.1"
  }
 },
 "nbformat": 4,
 "nbformat_minor": 2
}
